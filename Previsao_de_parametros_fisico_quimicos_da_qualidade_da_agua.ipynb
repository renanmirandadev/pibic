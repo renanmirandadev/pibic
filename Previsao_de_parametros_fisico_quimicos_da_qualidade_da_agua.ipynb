{
 "cells": [
  {
   "cell_type": "code",
   "execution_count": 1,
   "metadata": {
    "colab": {},
    "colab_type": "code",
    "id": "qs2X7VD6hMqu"
   },
   "outputs": [],
   "source": [
    "import pandas as pd"
   ]
  },
  {
   "cell_type": "code",
   "execution_count": 2,
   "metadata": {
    "colab": {},
    "colab_type": "code",
    "id": "hzJXC4_pizG3"
   },
   "outputs": [],
   "source": [
    "cefni_data = pd.read_csv('https://raw.githubusercontent.com/snowpepper/agua/master/cefni_data.csv')"
   ]
  },
  {
   "cell_type": "code",
   "execution_count": 3,
   "metadata": {
    "colab": {
     "base_uri": "https://localhost:8080/",
     "height": 411
    },
    "colab_type": "code",
    "id": "wnRa1uski-9Z",
    "outputId": "4cb9f88d-aa72-4dfc-c5f5-db90301dd7ce"
   },
   "outputs": [
    {
     "data": {
      "text/html": [
       "<div>\n",
       "<style scoped>\n",
       "    .dataframe tbody tr th:only-of-type {\n",
       "        vertical-align: middle;\n",
       "    }\n",
       "\n",
       "    .dataframe tbody tr th {\n",
       "        vertical-align: top;\n",
       "    }\n",
       "\n",
       "    .dataframe thead th {\n",
       "        text-align: right;\n",
       "    }\n",
       "</style>\n",
       "<table border=\"1\" class=\"dataframe\">\n",
       "  <thead>\n",
       "    <tr style=\"text-align: right;\">\n",
       "      <th></th>\n",
       "      <th>SPT NO</th>\n",
       "      <th>SAMPLING POINT</th>\n",
       "      <th>WQZ</th>\n",
       "      <th>SAMPLE DATE/TIME</th>\n",
       "      <th>PH</th>\n",
       "      <th>Unnamed: 5</th>\n",
       "      <th>CONDUCTIVITY20 C</th>\n",
       "      <th>Unnamed: 7</th>\n",
       "      <th>TURBIDITY</th>\n",
       "      <th>Unnamed: 9</th>\n",
       "      <th>COLOUR</th>\n",
       "      <th>Unnamed: 11</th>\n",
       "      <th>CHLOROPHYLL A</th>\n",
       "      <th>Unnamed: 13</th>\n",
       "    </tr>\n",
       "  </thead>\n",
       "  <tbody>\n",
       "    <tr>\n",
       "      <th>0</th>\n",
       "      <td>NaN</td>\n",
       "      <td>NaN</td>\n",
       "      <td>NaN</td>\n",
       "      <td>NaN</td>\n",
       "      <td>PH UNITS</td>\n",
       "      <td>NaN</td>\n",
       "      <td>US/CM</td>\n",
       "      <td>NaN</td>\n",
       "      <td>FORMAZIN TURBIDITY UNIT</td>\n",
       "      <td>NaN</td>\n",
       "      <td>MG/L PT/CO</td>\n",
       "      <td>NaN</td>\n",
       "      <td>UG/L</td>\n",
       "      <td>NaN</td>\n",
       "    </tr>\n",
       "    <tr>\n",
       "      <th>1</th>\n",
       "      <td>622911.0</td>\n",
       "      <td>CEFNI WTW RAW</td>\n",
       "      <td>NaN</td>\n",
       "      <td>14/01/2013 09:15:00</td>\n",
       "      <td>7,6000</td>\n",
       "      <td></td>\n",
       "      <td>264,0000</td>\n",
       "      <td></td>\n",
       "      <td>3,0000</td>\n",
       "      <td></td>\n",
       "      <td>42,2000</td>\n",
       "      <td></td>\n",
       "      <td>NaN</td>\n",
       "      <td></td>\n",
       "    </tr>\n",
       "    <tr>\n",
       "      <th>2</th>\n",
       "      <td>622911.0</td>\n",
       "      <td>CEFNI WTW RAW</td>\n",
       "      <td>NaN</td>\n",
       "      <td>24/01/2013 09:41:00</td>\n",
       "      <td>7,8000</td>\n",
       "      <td></td>\n",
       "      <td>330,0000</td>\n",
       "      <td></td>\n",
       "      <td>1,9000</td>\n",
       "      <td></td>\n",
       "      <td>30,4000</td>\n",
       "      <td></td>\n",
       "      <td>NaN</td>\n",
       "      <td></td>\n",
       "    </tr>\n",
       "    <tr>\n",
       "      <th>3</th>\n",
       "      <td>622911.0</td>\n",
       "      <td>CEFNI WTW RAW</td>\n",
       "      <td>NaN</td>\n",
       "      <td>30/01/2013 09:24:00</td>\n",
       "      <td>7,5000</td>\n",
       "      <td></td>\n",
       "      <td>259,0000</td>\n",
       "      <td></td>\n",
       "      <td>8,6000</td>\n",
       "      <td></td>\n",
       "      <td>37,8400</td>\n",
       "      <td></td>\n",
       "      <td>NaN</td>\n",
       "      <td></td>\n",
       "    </tr>\n",
       "    <tr>\n",
       "      <th>4</th>\n",
       "      <td>622911.0</td>\n",
       "      <td>CEFNI WTW RAW</td>\n",
       "      <td>NaN</td>\n",
       "      <td>05/02/2013 10:05:00</td>\n",
       "      <td>7,8000</td>\n",
       "      <td></td>\n",
       "      <td>267,0000</td>\n",
       "      <td></td>\n",
       "      <td>4,5000</td>\n",
       "      <td></td>\n",
       "      <td>34,4000</td>\n",
       "      <td></td>\n",
       "      <td>2,0000</td>\n",
       "      <td></td>\n",
       "    </tr>\n",
       "  </tbody>\n",
       "</table>\n",
       "</div>"
      ],
      "text/plain": [
       "     SPT NO SAMPLING POINT  WQZ      SAMPLE DATE/TIME        PH Unnamed: 5  \\\n",
       "0       NaN            NaN   NaN                  NaN  PH UNITS        NaN   \n",
       "1  622911.0  CEFNI WTW RAW   NaN  14/01/2013 09:15:00    7,6000              \n",
       "2  622911.0  CEFNI WTW RAW   NaN  24/01/2013 09:41:00    7,8000              \n",
       "3  622911.0  CEFNI WTW RAW   NaN  30/01/2013 09:24:00    7,5000              \n",
       "4  622911.0  CEFNI WTW RAW   NaN  05/02/2013 10:05:00    7,8000              \n",
       "\n",
       "  CONDUCTIVITY20 C Unnamed: 7                TURBIDITY Unnamed: 9      COLOUR  \\\n",
       "0            US/CM        NaN  FORMAZIN TURBIDITY UNIT        NaN  MG/L PT/CO   \n",
       "1         264,0000                              3,0000                42,2000   \n",
       "2         330,0000                              1,9000                30,4000   \n",
       "3         259,0000                              8,6000                37,8400   \n",
       "4         267,0000                              4,5000                34,4000   \n",
       "\n",
       "  Unnamed: 11 CHLOROPHYLL A Unnamed: 13  \n",
       "0         NaN          UG/L         NaN  \n",
       "1                       NaN              \n",
       "2                       NaN              \n",
       "3                       NaN              \n",
       "4                    2,0000              "
      ]
     },
     "execution_count": 3,
     "metadata": {},
     "output_type": "execute_result"
    }
   ],
   "source": [
    "cefni_data.head()"
   ]
  },
  {
   "cell_type": "code",
   "execution_count": 4,
   "metadata": {
    "colab": {},
    "colab_type": "code",
    "id": "dlXPFPdFldtY"
   },
   "outputs": [],
   "source": [
    "df = cefni_data[['SAMPLE DATE/TIME', 'PH', 'CONDUCTIVITY20 C', 'TURBIDITY', 'COLOUR', 'CHLOROPHYLL A']]"
   ]
  },
  {
   "cell_type": "code",
   "execution_count": 5,
   "metadata": {
    "colab": {
     "base_uri": "https://localhost:8080/",
     "height": 306
    },
    "colab_type": "code",
    "id": "OV3dfYKsmBKz",
    "outputId": "a16fdb7e-a108-4b85-b29c-4af8aa7076d5"
   },
   "outputs": [
    {
     "data": {
      "text/html": [
       "<div>\n",
       "<style scoped>\n",
       "    .dataframe tbody tr th:only-of-type {\n",
       "        vertical-align: middle;\n",
       "    }\n",
       "\n",
       "    .dataframe tbody tr th {\n",
       "        vertical-align: top;\n",
       "    }\n",
       "\n",
       "    .dataframe thead th {\n",
       "        text-align: right;\n",
       "    }\n",
       "</style>\n",
       "<table border=\"1\" class=\"dataframe\">\n",
       "  <thead>\n",
       "    <tr style=\"text-align: right;\">\n",
       "      <th></th>\n",
       "      <th>SAMPLE DATE/TIME</th>\n",
       "      <th>PH</th>\n",
       "      <th>CONDUCTIVITY20 C</th>\n",
       "      <th>TURBIDITY</th>\n",
       "      <th>COLOUR</th>\n",
       "      <th>CHLOROPHYLL A</th>\n",
       "    </tr>\n",
       "  </thead>\n",
       "  <tbody>\n",
       "    <tr>\n",
       "      <th>0</th>\n",
       "      <td>NaN</td>\n",
       "      <td>PH UNITS</td>\n",
       "      <td>US/CM</td>\n",
       "      <td>FORMAZIN TURBIDITY UNIT</td>\n",
       "      <td>MG/L PT/CO</td>\n",
       "      <td>UG/L</td>\n",
       "    </tr>\n",
       "    <tr>\n",
       "      <th>1</th>\n",
       "      <td>14/01/2013 09:15:00</td>\n",
       "      <td>7,6000</td>\n",
       "      <td>264,0000</td>\n",
       "      <td>3,0000</td>\n",
       "      <td>42,2000</td>\n",
       "      <td>NaN</td>\n",
       "    </tr>\n",
       "    <tr>\n",
       "      <th>2</th>\n",
       "      <td>24/01/2013 09:41:00</td>\n",
       "      <td>7,8000</td>\n",
       "      <td>330,0000</td>\n",
       "      <td>1,9000</td>\n",
       "      <td>30,4000</td>\n",
       "      <td>NaN</td>\n",
       "    </tr>\n",
       "    <tr>\n",
       "      <th>3</th>\n",
       "      <td>30/01/2013 09:24:00</td>\n",
       "      <td>7,5000</td>\n",
       "      <td>259,0000</td>\n",
       "      <td>8,6000</td>\n",
       "      <td>37,8400</td>\n",
       "      <td>NaN</td>\n",
       "    </tr>\n",
       "    <tr>\n",
       "      <th>4</th>\n",
       "      <td>05/02/2013 10:05:00</td>\n",
       "      <td>7,8000</td>\n",
       "      <td>267,0000</td>\n",
       "      <td>4,5000</td>\n",
       "      <td>34,4000</td>\n",
       "      <td>2,0000</td>\n",
       "    </tr>\n",
       "  </tbody>\n",
       "</table>\n",
       "</div>"
      ],
      "text/plain": [
       "      SAMPLE DATE/TIME        PH CONDUCTIVITY20 C                TURBIDITY  \\\n",
       "0                  NaN  PH UNITS            US/CM  FORMAZIN TURBIDITY UNIT   \n",
       "1  14/01/2013 09:15:00    7,6000         264,0000                   3,0000   \n",
       "2  24/01/2013 09:41:00    7,8000         330,0000                   1,9000   \n",
       "3  30/01/2013 09:24:00    7,5000         259,0000                   8,6000   \n",
       "4  05/02/2013 10:05:00    7,8000         267,0000                   4,5000   \n",
       "\n",
       "       COLOUR CHLOROPHYLL A  \n",
       "0  MG/L PT/CO          UG/L  \n",
       "1     42,2000           NaN  \n",
       "2     30,4000           NaN  \n",
       "3     37,8400           NaN  \n",
       "4     34,4000        2,0000  "
      ]
     },
     "execution_count": 5,
     "metadata": {},
     "output_type": "execute_result"
    }
   ],
   "source": [
    "df.head()"
   ]
  },
  {
   "cell_type": "code",
   "execution_count": 6,
   "metadata": {
    "colab": {
     "base_uri": "https://localhost:8080/",
     "height": 122
    },
    "colab_type": "code",
    "id": "lFEW-kOVmGBD",
    "outputId": "74d0e768-c3f3-4ab9-c953-a40e3910d0d3"
   },
   "outputs": [
    {
     "name": "stderr",
     "output_type": "stream",
     "text": [
      "/mnt/c/Users/Rodrigo Oliveira/www/machine-learning/.env/lib/python3.8/site-packages/pandas/core/frame.py:3990: SettingWithCopyWarning: \n",
      "A value is trying to be set on a copy of a slice from a DataFrame\n",
      "\n",
      "See the caveats in the documentation: https://pandas.pydata.org/pandas-docs/stable/user_guide/indexing.html#returning-a-view-versus-a-copy\n",
      "  return super().drop(\n"
     ]
    }
   ],
   "source": [
    "df.drop([0], axis=0, inplace=True)"
   ]
  },
  {
   "cell_type": "code",
   "execution_count": 7,
   "metadata": {
    "colab": {
     "base_uri": "https://localhost:8080/",
     "height": 204
    },
    "colab_type": "code",
    "id": "KRXtayJMmeKz",
    "outputId": "f4af7a1e-c05a-435d-ee70-f378b5f5eb54"
   },
   "outputs": [
    {
     "data": {
      "text/html": [
       "<div>\n",
       "<style scoped>\n",
       "    .dataframe tbody tr th:only-of-type {\n",
       "        vertical-align: middle;\n",
       "    }\n",
       "\n",
       "    .dataframe tbody tr th {\n",
       "        vertical-align: top;\n",
       "    }\n",
       "\n",
       "    .dataframe thead th {\n",
       "        text-align: right;\n",
       "    }\n",
       "</style>\n",
       "<table border=\"1\" class=\"dataframe\">\n",
       "  <thead>\n",
       "    <tr style=\"text-align: right;\">\n",
       "      <th></th>\n",
       "      <th>SAMPLE DATE/TIME</th>\n",
       "      <th>PH</th>\n",
       "      <th>CONDUCTIVITY20 C</th>\n",
       "      <th>TURBIDITY</th>\n",
       "      <th>COLOUR</th>\n",
       "      <th>CHLOROPHYLL A</th>\n",
       "    </tr>\n",
       "  </thead>\n",
       "  <tbody>\n",
       "    <tr>\n",
       "      <th>1</th>\n",
       "      <td>14/01/2013 09:15:00</td>\n",
       "      <td>7,6000</td>\n",
       "      <td>264,0000</td>\n",
       "      <td>3,0000</td>\n",
       "      <td>42,2000</td>\n",
       "      <td>NaN</td>\n",
       "    </tr>\n",
       "    <tr>\n",
       "      <th>2</th>\n",
       "      <td>24/01/2013 09:41:00</td>\n",
       "      <td>7,8000</td>\n",
       "      <td>330,0000</td>\n",
       "      <td>1,9000</td>\n",
       "      <td>30,4000</td>\n",
       "      <td>NaN</td>\n",
       "    </tr>\n",
       "    <tr>\n",
       "      <th>3</th>\n",
       "      <td>30/01/2013 09:24:00</td>\n",
       "      <td>7,5000</td>\n",
       "      <td>259,0000</td>\n",
       "      <td>8,6000</td>\n",
       "      <td>37,8400</td>\n",
       "      <td>NaN</td>\n",
       "    </tr>\n",
       "    <tr>\n",
       "      <th>4</th>\n",
       "      <td>05/02/2013 10:05:00</td>\n",
       "      <td>7,8000</td>\n",
       "      <td>267,0000</td>\n",
       "      <td>4,5000</td>\n",
       "      <td>34,4000</td>\n",
       "      <td>2,0000</td>\n",
       "    </tr>\n",
       "    <tr>\n",
       "      <th>5</th>\n",
       "      <td>14/02/2013 11:06:00</td>\n",
       "      <td>NaN</td>\n",
       "      <td>NaN</td>\n",
       "      <td>NaN</td>\n",
       "      <td>NaN</td>\n",
       "      <td>4,0000</td>\n",
       "    </tr>\n",
       "  </tbody>\n",
       "</table>\n",
       "</div>"
      ],
      "text/plain": [
       "      SAMPLE DATE/TIME      PH CONDUCTIVITY20 C TURBIDITY   COLOUR  \\\n",
       "1  14/01/2013 09:15:00  7,6000         264,0000    3,0000  42,2000   \n",
       "2  24/01/2013 09:41:00  7,8000         330,0000    1,9000  30,4000   \n",
       "3  30/01/2013 09:24:00  7,5000         259,0000    8,6000  37,8400   \n",
       "4  05/02/2013 10:05:00  7,8000         267,0000    4,5000  34,4000   \n",
       "5  14/02/2013 11:06:00     NaN              NaN       NaN      NaN   \n",
       "\n",
       "  CHLOROPHYLL A  \n",
       "1           NaN  \n",
       "2           NaN  \n",
       "3           NaN  \n",
       "4        2,0000  \n",
       "5        4,0000  "
      ]
     },
     "execution_count": 7,
     "metadata": {},
     "output_type": "execute_result"
    }
   ],
   "source": [
    "df.head()"
   ]
  },
  {
   "cell_type": "code",
   "execution_count": 8,
   "metadata": {
    "colab": {},
    "colab_type": "code",
    "id": "Ss6fGFyomylD"
   },
   "outputs": [],
   "source": [
    "import matplotlib.pyplot as plt"
   ]
  },
  {
   "cell_type": "code",
   "execution_count": 9,
   "metadata": {
    "colab": {
     "base_uri": "https://localhost:8080/",
     "height": 71
    },
    "colab_type": "code",
    "id": "TiLG05j0nqs1",
    "outputId": "e7ee01eb-18d7-4d02-ce54-bf83141f3115"
   },
   "outputs": [],
   "source": [
    "import seaborn as sns"
   ]
  },
  {
   "cell_type": "code",
   "execution_count": 10,
   "metadata": {
    "colab": {
     "base_uri": "https://localhost:8080/",
     "height": 391
    },
    "colab_type": "code",
    "id": "q1rBTnZJoBrD",
    "outputId": "8ae09850-9c79-41b6-967f-6122146957f4"
   },
   "outputs": [
    {
     "data": {
      "text/plain": [
       "<AxesSubplot:>"
      ]
     },
     "execution_count": 10,
     "metadata": {},
     "output_type": "execute_result"
    },
    {
     "data": {
      "image/png": "[encoded data removed]",
      "text/plain": [
       "<Figure size 864x432 with 1 Axes>"
      ]
     },
     "metadata": {
      "needs_background": "light"
     },
     "output_type": "display_data"
    }
   ],
   "source": [
    "plt.figure(figsize=(12,6))\n",
    "sns.heatmap(df.isnull(), yticklabels=False, cbar=False, cmap='viridis')"
   ]
  },
  {
   "cell_type": "code",
   "execution_count": 11,
   "metadata": {
    "colab": {
     "base_uri": "https://localhost:8080/",
     "height": 204
    },
    "colab_type": "code",
    "id": "ZnbMRnSmFmTf",
    "outputId": "3fde288d-903a-43ac-d95c-24197f85e1d5"
   },
   "outputs": [
    {
     "data": {
      "text/html": [
       "<div>\n",
       "<style scoped>\n",
       "    .dataframe tbody tr th:only-of-type {\n",
       "        vertical-align: middle;\n",
       "    }\n",
       "\n",
       "    .dataframe tbody tr th {\n",
       "        vertical-align: top;\n",
       "    }\n",
       "\n",
       "    .dataframe thead th {\n",
       "        text-align: right;\n",
       "    }\n",
       "</style>\n",
       "<table border=\"1\" class=\"dataframe\">\n",
       "  <thead>\n",
       "    <tr style=\"text-align: right;\">\n",
       "      <th></th>\n",
       "      <th>SAMPLE DATE/TIME</th>\n",
       "      <th>PH</th>\n",
       "      <th>CONDUCTIVITY20 C</th>\n",
       "      <th>TURBIDITY</th>\n",
       "      <th>COLOUR</th>\n",
       "      <th>CHLOROPHYLL A</th>\n",
       "    </tr>\n",
       "  </thead>\n",
       "  <tbody>\n",
       "    <tr>\n",
       "      <th>1</th>\n",
       "      <td>14/01/2013 09:15:00</td>\n",
       "      <td>7,6000</td>\n",
       "      <td>264,0000</td>\n",
       "      <td>3,0000</td>\n",
       "      <td>42,2000</td>\n",
       "      <td>NaN</td>\n",
       "    </tr>\n",
       "    <tr>\n",
       "      <th>2</th>\n",
       "      <td>24/01/2013 09:41:00</td>\n",
       "      <td>7,8000</td>\n",
       "      <td>330,0000</td>\n",
       "      <td>1,9000</td>\n",
       "      <td>30,4000</td>\n",
       "      <td>NaN</td>\n",
       "    </tr>\n",
       "    <tr>\n",
       "      <th>3</th>\n",
       "      <td>30/01/2013 09:24:00</td>\n",
       "      <td>7,5000</td>\n",
       "      <td>259,0000</td>\n",
       "      <td>8,6000</td>\n",
       "      <td>37,8400</td>\n",
       "      <td>NaN</td>\n",
       "    </tr>\n",
       "    <tr>\n",
       "      <th>4</th>\n",
       "      <td>05/02/2013 10:05:00</td>\n",
       "      <td>7,8000</td>\n",
       "      <td>267,0000</td>\n",
       "      <td>4,5000</td>\n",
       "      <td>34,4000</td>\n",
       "      <td>2,0000</td>\n",
       "    </tr>\n",
       "    <tr>\n",
       "      <th>5</th>\n",
       "      <td>14/02/2013 11:06:00</td>\n",
       "      <td>NaN</td>\n",
       "      <td>NaN</td>\n",
       "      <td>NaN</td>\n",
       "      <td>NaN</td>\n",
       "      <td>4,0000</td>\n",
       "    </tr>\n",
       "  </tbody>\n",
       "</table>\n",
       "</div>"
      ],
      "text/plain": [
       "      SAMPLE DATE/TIME      PH CONDUCTIVITY20 C TURBIDITY   COLOUR  \\\n",
       "1  14/01/2013 09:15:00  7,6000         264,0000    3,0000  42,2000   \n",
       "2  24/01/2013 09:41:00  7,8000         330,0000    1,9000  30,4000   \n",
       "3  30/01/2013 09:24:00  7,5000         259,0000    8,6000  37,8400   \n",
       "4  05/02/2013 10:05:00  7,8000         267,0000    4,5000  34,4000   \n",
       "5  14/02/2013 11:06:00     NaN              NaN       NaN      NaN   \n",
       "\n",
       "  CHLOROPHYLL A  \n",
       "1           NaN  \n",
       "2           NaN  \n",
       "3           NaN  \n",
       "4        2,0000  \n",
       "5        4,0000  "
      ]
     },
     "execution_count": 11,
     "metadata": {},
     "output_type": "execute_result"
    }
   ],
   "source": [
    "df.head()"
   ]
  },
  {
   "cell_type": "code",
   "execution_count": 12,
   "metadata": {
    "colab": {
     "base_uri": "https://localhost:8080/",
     "height": 139
    },
    "colab_type": "code",
    "id": "Qy7VRfTdwm3G",
    "outputId": "937fcd64-a462-4f7c-943a-6aeb5d872219"
   },
   "outputs": [
    {
     "name": "stderr",
     "output_type": "stream",
     "text": [
      "<ipython-input-12-abeb7b0b4123>:1: SettingWithCopyWarning: \n",
      "A value is trying to be set on a copy of a slice from a DataFrame.\n",
      "Try using .loc[row_indexer,col_indexer] = value instead\n",
      "\n",
      "See the caveats in the documentation: https://pandas.pydata.org/pandas-docs/stable/user_guide/indexing.html#returning-a-view-versus-a-copy\n",
      "  df['DATE'] = df['SAMPLE DATE/TIME'].apply(lambda cell: cell.split(' ')[0])\n"
     ]
    }
   ],
   "source": [
    "df['DATE'] = df['SAMPLE DATE/TIME'].apply(lambda cell: cell.split(' ')[0])"
   ]
  },
  {
   "cell_type": "code",
   "execution_count": 13,
   "metadata": {
    "colab": {
     "base_uri": "https://localhost:8080/",
     "height": 139
    },
    "colab_type": "code",
    "id": "cf33J0upyS-D",
    "outputId": "fa72c99b-2ab8-46bf-93b4-3c98ec5b59be"
   },
   "outputs": [
    {
     "name": "stderr",
     "output_type": "stream",
     "text": [
      "<ipython-input-13-89008467447f>:1: SettingWithCopyWarning: \n",
      "A value is trying to be set on a copy of a slice from a DataFrame.\n",
      "Try using .loc[row_indexer,col_indexer] = value instead\n",
      "\n",
      "See the caveats in the documentation: https://pandas.pydata.org/pandas-docs/stable/user_guide/indexing.html#returning-a-view-versus-a-copy\n",
      "  df['TIME'] = df['SAMPLE DATE/TIME'].apply(lambda cell: cell.split(' ')[1])\n"
     ]
    }
   ],
   "source": [
    "df['TIME'] = df['SAMPLE DATE/TIME'].apply(lambda cell: cell.split(' ')[1])"
   ]
  },
  {
   "cell_type": "code",
   "execution_count": 14,
   "metadata": {
    "colab": {
     "base_uri": "https://localhost:8080/",
     "height": 139
    },
    "colab_type": "code",
    "id": "FEqJgFd12LTd",
    "outputId": "0662fb09-9535-4ecb-e893-28d20dc04ab9"
   },
   "outputs": [
    {
     "name": "stderr",
     "output_type": "stream",
     "text": [
      "<ipython-input-14-b87b5c99d3bf>:1: SettingWithCopyWarning: \n",
      "A value is trying to be set on a copy of a slice from a DataFrame.\n",
      "Try using .loc[row_indexer,col_indexer] = value instead\n",
      "\n",
      "See the caveats in the documentation: https://pandas.pydata.org/pandas-docs/stable/user_guide/indexing.html#returning-a-view-versus-a-copy\n",
      "  df['YEAR'] = df['SAMPLE DATE/TIME'].apply(lambda cell: cell.split(' ')[0][-4:])\n"
     ]
    }
   ],
   "source": [
    "df['YEAR'] = df['SAMPLE DATE/TIME'].apply(lambda cell: cell.split(' ')[0][-4:])"
   ]
  },
  {
   "cell_type": "code",
   "execution_count": 15,
   "metadata": {
    "colab": {},
    "colab_type": "code",
    "id": "kcQBvKDvzFKY"
   },
   "outputs": [],
   "source": [
    "df = df[['YEAR', 'DATE', 'TIME', 'PH', 'CONDUCTIVITY20 C', 'TURBIDITY', 'COLOUR', 'CHLOROPHYLL A']]"
   ]
  },
  {
   "cell_type": "code",
   "execution_count": 16,
   "metadata": {
    "colab": {
     "base_uri": "https://localhost:8080/",
     "height": 204
    },
    "colab_type": "code",
    "id": "pn4d_S6BzTzN",
    "outputId": "2ffa3e4b-a1b7-4fdd-b5c2-cf6d534e9756"
   },
   "outputs": [
    {
     "data": {
      "text/html": [
       "<div>\n",
       "<style scoped>\n",
       "    .dataframe tbody tr th:only-of-type {\n",
       "        vertical-align: middle;\n",
       "    }\n",
       "\n",
       "    .dataframe tbody tr th {\n",
       "        vertical-align: top;\n",
       "    }\n",
       "\n",
       "    .dataframe thead th {\n",
       "        text-align: right;\n",
       "    }\n",
       "</style>\n",
       "<table border=\"1\" class=\"dataframe\">\n",
       "  <thead>\n",
       "    <tr style=\"text-align: right;\">\n",
       "      <th></th>\n",
       "      <th>YEAR</th>\n",
       "      <th>DATE</th>\n",
       "      <th>TIME</th>\n",
       "      <th>PH</th>\n",
       "      <th>CONDUCTIVITY20 C</th>\n",
       "      <th>TURBIDITY</th>\n",
       "      <th>COLOUR</th>\n",
       "      <th>CHLOROPHYLL A</th>\n",
       "    </tr>\n",
       "  </thead>\n",
       "  <tbody>\n",
       "    <tr>\n",
       "      <th>1</th>\n",
       "      <td>2013</td>\n",
       "      <td>14/01/2013</td>\n",
       "      <td>09:15:00</td>\n",
       "      <td>7,6000</td>\n",
       "      <td>264,0000</td>\n",
       "      <td>3,0000</td>\n",
       "      <td>42,2000</td>\n",
       "      <td>NaN</td>\n",
       "    </tr>\n",
       "    <tr>\n",
       "      <th>2</th>\n",
       "      <td>2013</td>\n",
       "      <td>24/01/2013</td>\n",
       "      <td>09:41:00</td>\n",
       "      <td>7,8000</td>\n",
       "      <td>330,0000</td>\n",
       "      <td>1,9000</td>\n",
       "      <td>30,4000</td>\n",
       "      <td>NaN</td>\n",
       "    </tr>\n",
       "    <tr>\n",
       "      <th>3</th>\n",
       "      <td>2013</td>\n",
       "      <td>30/01/2013</td>\n",
       "      <td>09:24:00</td>\n",
       "      <td>7,5000</td>\n",
       "      <td>259,0000</td>\n",
       "      <td>8,6000</td>\n",
       "      <td>37,8400</td>\n",
       "      <td>NaN</td>\n",
       "    </tr>\n",
       "    <tr>\n",
       "      <th>4</th>\n",
       "      <td>2013</td>\n",
       "      <td>05/02/2013</td>\n",
       "      <td>10:05:00</td>\n",
       "      <td>7,8000</td>\n",
       "      <td>267,0000</td>\n",
       "      <td>4,5000</td>\n",
       "      <td>34,4000</td>\n",
       "      <td>2,0000</td>\n",
       "    </tr>\n",
       "    <tr>\n",
       "      <th>5</th>\n",
       "      <td>2013</td>\n",
       "      <td>14/02/2013</td>\n",
       "      <td>11:06:00</td>\n",
       "      <td>NaN</td>\n",
       "      <td>NaN</td>\n",
       "      <td>NaN</td>\n",
       "      <td>NaN</td>\n",
       "      <td>4,0000</td>\n",
       "    </tr>\n",
       "  </tbody>\n",
       "</table>\n",
       "</div>"
      ],
      "text/plain": [
       "   YEAR        DATE      TIME      PH CONDUCTIVITY20 C TURBIDITY   COLOUR  \\\n",
       "1  2013  14/01/2013  09:15:00  7,6000         264,0000    3,0000  42,2000   \n",
       "2  2013  24/01/2013  09:41:00  7,8000         330,0000    1,9000  30,4000   \n",
       "3  2013  30/01/2013  09:24:00  7,5000         259,0000    8,6000  37,8400   \n",
       "4  2013  05/02/2013  10:05:00  7,8000         267,0000    4,5000  34,4000   \n",
       "5  2013  14/02/2013  11:06:00     NaN              NaN       NaN      NaN   \n",
       "\n",
       "  CHLOROPHYLL A  \n",
       "1           NaN  \n",
       "2           NaN  \n",
       "3           NaN  \n",
       "4        2,0000  \n",
       "5        4,0000  "
      ]
     },
     "execution_count": 16,
     "metadata": {},
     "output_type": "execute_result"
    }
   ],
   "source": [
    "df.head()"
   ]
  },
  {
   "cell_type": "code",
   "execution_count": 17,
   "metadata": {
    "colab": {},
    "colab_type": "code",
    "id": "nZ3OM3LGKscm"
   },
   "outputs": [],
   "source": [
    "df.fillna('0,0', inplace=True)"
   ]
  },
  {
   "cell_type": "code",
   "execution_count": 18,
   "metadata": {
    "colab": {
     "base_uri": "https://localhost:8080/",
     "height": 526
    },
    "colab_type": "code",
    "id": "opJL0lmk1fyd",
    "outputId": "df54dd8f-b81b-4f78-ffb4-7ec5c5a649c9"
   },
   "outputs": [
    {
     "data": {
      "text/plain": [
       "<AxesSubplot:>"
      ]
     },
     "execution_count": 18,
     "metadata": {},
     "output_type": "execute_result"
    },
    {
     "data": {
      "image/png": "[encoded data removed]",
      "text/plain": [
       "<Figure size 1152x720 with 1 Axes>"
      ]
     },
     "metadata": {
      "needs_background": "light"
     },
     "output_type": "display_data"
    }
   ],
   "source": [
    "plt.figure(figsize=(16,10))\n",
    "sns.heatmap(df.isnull(), yticklabels=False, cbar=False, cmap='viridis')"
   ]
  },
  {
   "cell_type": "code",
   "execution_count": 19,
   "metadata": {
    "colab": {
     "base_uri": "https://localhost:8080/",
     "height": 204
    },
    "colab_type": "code",
    "id": "m98F5_vJKbc7",
    "outputId": "baedbd5c-d3ff-4cdc-d589-70494c04fc5d"
   },
   "outputs": [
    {
     "data": {
      "text/html": [
       "<div>\n",
       "<style scoped>\n",
       "    .dataframe tbody tr th:only-of-type {\n",
       "        vertical-align: middle;\n",
       "    }\n",
       "\n",
       "    .dataframe tbody tr th {\n",
       "        vertical-align: top;\n",
       "    }\n",
       "\n",
       "    .dataframe thead th {\n",
       "        text-align: right;\n",
       "    }\n",
       "</style>\n",
       "<table border=\"1\" class=\"dataframe\">\n",
       "  <thead>\n",
       "    <tr style=\"text-align: right;\">\n",
       "      <th></th>\n",
       "      <th>YEAR</th>\n",
       "      <th>DATE</th>\n",
       "      <th>TIME</th>\n",
       "      <th>PH</th>\n",
       "      <th>CONDUCTIVITY20 C</th>\n",
       "      <th>TURBIDITY</th>\n",
       "      <th>COLOUR</th>\n",
       "      <th>CHLOROPHYLL A</th>\n",
       "    </tr>\n",
       "  </thead>\n",
       "  <tbody>\n",
       "    <tr>\n",
       "      <th>1</th>\n",
       "      <td>2013</td>\n",
       "      <td>14/01/2013</td>\n",
       "      <td>09:15:00</td>\n",
       "      <td>7,6000</td>\n",
       "      <td>264,0000</td>\n",
       "      <td>3,0000</td>\n",
       "      <td>42,2000</td>\n",
       "      <td>0,0</td>\n",
       "    </tr>\n",
       "    <tr>\n",
       "      <th>2</th>\n",
       "      <td>2013</td>\n",
       "      <td>24/01/2013</td>\n",
       "      <td>09:41:00</td>\n",
       "      <td>7,8000</td>\n",
       "      <td>330,0000</td>\n",
       "      <td>1,9000</td>\n",
       "      <td>30,4000</td>\n",
       "      <td>0,0</td>\n",
       "    </tr>\n",
       "    <tr>\n",
       "      <th>3</th>\n",
       "      <td>2013</td>\n",
       "      <td>30/01/2013</td>\n",
       "      <td>09:24:00</td>\n",
       "      <td>7,5000</td>\n",
       "      <td>259,0000</td>\n",
       "      <td>8,6000</td>\n",
       "      <td>37,8400</td>\n",
       "      <td>0,0</td>\n",
       "    </tr>\n",
       "    <tr>\n",
       "      <th>4</th>\n",
       "      <td>2013</td>\n",
       "      <td>05/02/2013</td>\n",
       "      <td>10:05:00</td>\n",
       "      <td>7,8000</td>\n",
       "      <td>267,0000</td>\n",
       "      <td>4,5000</td>\n",
       "      <td>34,4000</td>\n",
       "      <td>2,0000</td>\n",
       "    </tr>\n",
       "    <tr>\n",
       "      <th>5</th>\n",
       "      <td>2013</td>\n",
       "      <td>14/02/2013</td>\n",
       "      <td>11:06:00</td>\n",
       "      <td>0,0</td>\n",
       "      <td>0,0</td>\n",
       "      <td>0,0</td>\n",
       "      <td>0,0</td>\n",
       "      <td>4,0000</td>\n",
       "    </tr>\n",
       "  </tbody>\n",
       "</table>\n",
       "</div>"
      ],
      "text/plain": [
       "   YEAR        DATE      TIME      PH CONDUCTIVITY20 C TURBIDITY   COLOUR  \\\n",
       "1  2013  14/01/2013  09:15:00  7,6000         264,0000    3,0000  42,2000   \n",
       "2  2013  24/01/2013  09:41:00  7,8000         330,0000    1,9000  30,4000   \n",
       "3  2013  30/01/2013  09:24:00  7,5000         259,0000    8,6000  37,8400   \n",
       "4  2013  05/02/2013  10:05:00  7,8000         267,0000    4,5000  34,4000   \n",
       "5  2013  14/02/2013  11:06:00     0,0              0,0       0,0      0,0   \n",
       "\n",
       "  CHLOROPHYLL A  \n",
       "1           0,0  \n",
       "2           0,0  \n",
       "3           0,0  \n",
       "4        2,0000  \n",
       "5        4,0000  "
      ]
     },
     "execution_count": 19,
     "metadata": {},
     "output_type": "execute_result"
    }
   ],
   "source": [
    "df.head()"
   ]
  },
  {
   "cell_type": "markdown",
   "metadata": {
    "colab_type": "text",
    "id": "InK4NQ8kbr9T"
   },
   "source": [
    "## Correção de tipagem"
   ]
  },
  {
   "cell_type": "code",
   "execution_count": 20,
   "metadata": {
    "colab": {},
    "colab_type": "code",
    "id": "pjYz49wMRXQF"
   },
   "outputs": [],
   "source": [
    "df['PH'] = df['PH'].apply(lambda a: a.replace(',', '.')).astype(float)\n",
    "df['CONDUCTIVITY20 C'] = df['CONDUCTIVITY20 C'].apply(lambda a: a.replace(',', '.')).astype(float)\n",
    "df['TURBIDITY'] = df['TURBIDITY'].apply(lambda a: a.replace(',', '.')).astype(float)\n",
    "df['COLOUR'] = df['COLOUR'].apply(lambda a: a.replace(',', '.')).astype(float)\n",
    "df['CHLOROPHYLL A'] = df['CHLOROPHYLL A'].apply(lambda a: a.replace(',', '.')).astype(float)"
   ]
  },
  {
   "cell_type": "code",
   "execution_count": 21,
   "metadata": {
    "colab": {},
    "colab_type": "code",
    "id": "3yw4yvMVY2lu"
   },
   "outputs": [],
   "source": [
    "df['DATE'] = pd.to_datetime(df['DATE'],format='%d/%m/%Y', dayfirst=True)\n",
    "df['TIME'] = pd.to_datetime(df['TIME'],format='%H:%M:%S')"
   ]
  },
  {
   "cell_type": "code",
   "execution_count": 22,
   "metadata": {
    "colab": {
     "base_uri": "https://localhost:8080/",
     "height": 204
    },
    "colab_type": "code",
    "id": "vfFTANfLZ0Fm",
    "outputId": "162ed819-d037-4d0f-b469-c935b2c4d13e"
   },
   "outputs": [
    {
     "data": {
      "text/html": [
       "<div>\n",
       "<style scoped>\n",
       "    .dataframe tbody tr th:only-of-type {\n",
       "        vertical-align: middle;\n",
       "    }\n",
       "\n",
       "    .dataframe tbody tr th {\n",
       "        vertical-align: top;\n",
       "    }\n",
       "\n",
       "    .dataframe thead th {\n",
       "        text-align: right;\n",
       "    }\n",
       "</style>\n",
       "<table border=\"1\" class=\"dataframe\">\n",
       "  <thead>\n",
       "    <tr style=\"text-align: right;\">\n",
       "      <th></th>\n",
       "      <th>YEAR</th>\n",
       "      <th>DATE</th>\n",
       "      <th>TIME</th>\n",
       "      <th>PH</th>\n",
       "      <th>CONDUCTIVITY20 C</th>\n",
       "      <th>TURBIDITY</th>\n",
       "      <th>COLOUR</th>\n",
       "      <th>CHLOROPHYLL A</th>\n",
       "    </tr>\n",
       "  </thead>\n",
       "  <tbody>\n",
       "    <tr>\n",
       "      <th>1</th>\n",
       "      <td>2013</td>\n",
       "      <td>2013-01-14</td>\n",
       "      <td>1900-01-01 09:15:00</td>\n",
       "      <td>7.6</td>\n",
       "      <td>264.0</td>\n",
       "      <td>3.0</td>\n",
       "      <td>42.20</td>\n",
       "      <td>0.0</td>\n",
       "    </tr>\n",
       "    <tr>\n",
       "      <th>2</th>\n",
       "      <td>2013</td>\n",
       "      <td>2013-01-24</td>\n",
       "      <td>1900-01-01 09:41:00</td>\n",
       "      <td>7.8</td>\n",
       "      <td>330.0</td>\n",
       "      <td>1.9</td>\n",
       "      <td>30.40</td>\n",
       "      <td>0.0</td>\n",
       "    </tr>\n",
       "    <tr>\n",
       "      <th>3</th>\n",
       "      <td>2013</td>\n",
       "      <td>2013-01-30</td>\n",
       "      <td>1900-01-01 09:24:00</td>\n",
       "      <td>7.5</td>\n",
       "      <td>259.0</td>\n",
       "      <td>8.6</td>\n",
       "      <td>37.84</td>\n",
       "      <td>0.0</td>\n",
       "    </tr>\n",
       "    <tr>\n",
       "      <th>4</th>\n",
       "      <td>2013</td>\n",
       "      <td>2013-02-05</td>\n",
       "      <td>1900-01-01 10:05:00</td>\n",
       "      <td>7.8</td>\n",
       "      <td>267.0</td>\n",
       "      <td>4.5</td>\n",
       "      <td>34.40</td>\n",
       "      <td>2.0</td>\n",
       "    </tr>\n",
       "    <tr>\n",
       "      <th>5</th>\n",
       "      <td>2013</td>\n",
       "      <td>2013-02-14</td>\n",
       "      <td>1900-01-01 11:06:00</td>\n",
       "      <td>0.0</td>\n",
       "      <td>0.0</td>\n",
       "      <td>0.0</td>\n",
       "      <td>0.00</td>\n",
       "      <td>4.0</td>\n",
       "    </tr>\n",
       "  </tbody>\n",
       "</table>\n",
       "</div>"
      ],
      "text/plain": [
       "   YEAR       DATE                TIME   PH  CONDUCTIVITY20 C  TURBIDITY  \\\n",
       "1  2013 2013-01-14 1900-01-01 09:15:00  7.6             264.0        3.0   \n",
       "2  2013 2013-01-24 1900-01-01 09:41:00  7.8             330.0        1.9   \n",
       "3  2013 2013-01-30 1900-01-01 09:24:00  7.5             259.0        8.6   \n",
       "4  2013 2013-02-05 1900-01-01 10:05:00  7.8             267.0        4.5   \n",
       "5  2013 2013-02-14 1900-01-01 11:06:00  0.0               0.0        0.0   \n",
       "\n",
       "   COLOUR  CHLOROPHYLL A  \n",
       "1   42.20            0.0  \n",
       "2   30.40            0.0  \n",
       "3   37.84            0.0  \n",
       "4   34.40            2.0  \n",
       "5    0.00            4.0  "
      ]
     },
     "execution_count": 22,
     "metadata": {},
     "output_type": "execute_result"
    }
   ],
   "source": [
    "df.head()"
   ]
  },
  {
   "cell_type": "code",
   "execution_count": 23,
   "metadata": {
    "colab": {
     "base_uri": "https://localhost:8080/",
     "height": 272
    },
    "colab_type": "code",
    "id": "pKu-Ovv1KrIw",
    "outputId": "e74820d7-17cd-4e3d-8165-953c4d6383d6"
   },
   "outputs": [
    {
     "name": "stdout",
     "output_type": "stream",
     "text": [
      "<class 'pandas.core.frame.DataFrame'>\n",
      "Int64Index: 221 entries, 1 to 221\n",
      "Data columns (total 8 columns):\n",
      " #   Column            Non-Null Count  Dtype         \n",
      "---  ------            --------------  -----         \n",
      " 0   YEAR              221 non-null    object        \n",
      " 1   DATE              221 non-null    datetime64[ns]\n",
      " 2   TIME              221 non-null    datetime64[ns]\n",
      " 3   PH                221 non-null    float64       \n",
      " 4   CONDUCTIVITY20 C  221 non-null    float64       \n",
      " 5   TURBIDITY         221 non-null    float64       \n",
      " 6   COLOUR            221 non-null    float64       \n",
      " 7   CHLOROPHYLL A     221 non-null    float64       \n",
      "dtypes: datetime64[ns](2), float64(5), object(1)\n",
      "memory usage: 15.5+ KB\n"
     ]
    }
   ],
   "source": [
    "df.info()"
   ]
  },
  {
   "cell_type": "code",
   "execution_count": 24,
   "metadata": {
    "colab": {},
    "colab_type": "code",
    "id": "T_8w9SJd4NLi"
   },
   "outputs": [],
   "source": [
    "group_by_year = df.groupby(['YEAR'])"
   ]
  },
  {
   "cell_type": "code",
   "execution_count": 25,
   "metadata": {
    "colab": {
     "base_uri": "https://localhost:8080/",
     "height": 255
    },
    "colab_type": "code",
    "id": "c-FUfIPu1iS5",
    "outputId": "b34b2c24-9f1f-4734-8849-45ae43300d29"
   },
   "outputs": [
    {
     "data": {
      "text/html": [
       "<div>\n",
       "<style scoped>\n",
       "    .dataframe tbody tr th:only-of-type {\n",
       "        vertical-align: middle;\n",
       "    }\n",
       "\n",
       "    .dataframe tbody tr th {\n",
       "        vertical-align: top;\n",
       "    }\n",
       "\n",
       "    .dataframe thead tr th {\n",
       "        text-align: left;\n",
       "    }\n",
       "\n",
       "    .dataframe thead tr:last-of-type th {\n",
       "        text-align: right;\n",
       "    }\n",
       "</style>\n",
       "<table border=\"1\" class=\"dataframe\">\n",
       "  <thead>\n",
       "    <tr>\n",
       "      <th></th>\n",
       "      <th colspan=\"8\" halign=\"left\">PH</th>\n",
       "      <th colspan=\"2\" halign=\"left\">CONDUCTIVITY20 C</th>\n",
       "      <th>...</th>\n",
       "      <th colspan=\"2\" halign=\"left\">COLOUR</th>\n",
       "      <th colspan=\"8\" halign=\"left\">CHLOROPHYLL A</th>\n",
       "    </tr>\n",
       "    <tr>\n",
       "      <th></th>\n",
       "      <th>count</th>\n",
       "      <th>mean</th>\n",
       "      <th>std</th>\n",
       "      <th>min</th>\n",
       "      <th>25%</th>\n",
       "      <th>50%</th>\n",
       "      <th>75%</th>\n",
       "      <th>max</th>\n",
       "      <th>count</th>\n",
       "      <th>mean</th>\n",
       "      <th>...</th>\n",
       "      <th>75%</th>\n",
       "      <th>max</th>\n",
       "      <th>count</th>\n",
       "      <th>mean</th>\n",
       "      <th>std</th>\n",
       "      <th>min</th>\n",
       "      <th>25%</th>\n",
       "      <th>50%</th>\n",
       "      <th>75%</th>\n",
       "      <th>max</th>\n",
       "    </tr>\n",
       "    <tr>\n",
       "      <th>YEAR</th>\n",
       "      <th></th>\n",
       "      <th></th>\n",
       "      <th></th>\n",
       "      <th></th>\n",
       "      <th></th>\n",
       "      <th></th>\n",
       "      <th></th>\n",
       "      <th></th>\n",
       "      <th></th>\n",
       "      <th></th>\n",
       "      <th></th>\n",
       "      <th></th>\n",
       "      <th></th>\n",
       "      <th></th>\n",
       "      <th></th>\n",
       "      <th></th>\n",
       "      <th></th>\n",
       "      <th></th>\n",
       "      <th></th>\n",
       "      <th></th>\n",
       "      <th></th>\n",
       "    </tr>\n",
       "  </thead>\n",
       "  <tbody>\n",
       "    <tr>\n",
       "      <th>2013</th>\n",
       "      <td>49.0</td>\n",
       "      <td>7.546939</td>\n",
       "      <td>1.594666</td>\n",
       "      <td>0.0</td>\n",
       "      <td>7.7</td>\n",
       "      <td>7.80</td>\n",
       "      <td>8.000</td>\n",
       "      <td>8.6</td>\n",
       "      <td>49.0</td>\n",
       "      <td>265.367347</td>\n",
       "      <td>...</td>\n",
       "      <td>40.12000</td>\n",
       "      <td>86.45</td>\n",
       "      <td>49.0</td>\n",
       "      <td>5.316122</td>\n",
       "      <td>6.509407</td>\n",
       "      <td>0.0</td>\n",
       "      <td>1.950</td>\n",
       "      <td>3.13</td>\n",
       "      <td>5.630</td>\n",
       "      <td>32.40</td>\n",
       "    </tr>\n",
       "    <tr>\n",
       "      <th>2014</th>\n",
       "      <td>70.0</td>\n",
       "      <td>7.842857</td>\n",
       "      <td>1.022014</td>\n",
       "      <td>0.0</td>\n",
       "      <td>7.7</td>\n",
       "      <td>7.85</td>\n",
       "      <td>8.375</td>\n",
       "      <td>8.6</td>\n",
       "      <td>70.0</td>\n",
       "      <td>275.742857</td>\n",
       "      <td>...</td>\n",
       "      <td>36.30175</td>\n",
       "      <td>86.00</td>\n",
       "      <td>70.0</td>\n",
       "      <td>5.145143</td>\n",
       "      <td>9.004676</td>\n",
       "      <td>0.0</td>\n",
       "      <td>0.000</td>\n",
       "      <td>1.98</td>\n",
       "      <td>3.925</td>\n",
       "      <td>45.52</td>\n",
       "    </tr>\n",
       "    <tr>\n",
       "      <th>2015</th>\n",
       "      <td>47.0</td>\n",
       "      <td>8.063830</td>\n",
       "      <td>0.146593</td>\n",
       "      <td>7.7</td>\n",
       "      <td>8.0</td>\n",
       "      <td>8.10</td>\n",
       "      <td>8.200</td>\n",
       "      <td>8.4</td>\n",
       "      <td>47.0</td>\n",
       "      <td>268.510638</td>\n",
       "      <td>...</td>\n",
       "      <td>41.00000</td>\n",
       "      <td>80.00</td>\n",
       "      <td>47.0</td>\n",
       "      <td>8.434043</td>\n",
       "      <td>6.252598</td>\n",
       "      <td>0.0</td>\n",
       "      <td>4.135</td>\n",
       "      <td>6.88</td>\n",
       "      <td>10.420</td>\n",
       "      <td>29.39</td>\n",
       "    </tr>\n",
       "    <tr>\n",
       "      <th>2016</th>\n",
       "      <td>55.0</td>\n",
       "      <td>8.074545</td>\n",
       "      <td>0.276364</td>\n",
       "      <td>7.6</td>\n",
       "      <td>7.9</td>\n",
       "      <td>8.00</td>\n",
       "      <td>8.200</td>\n",
       "      <td>8.9</td>\n",
       "      <td>55.0</td>\n",
       "      <td>257.818182</td>\n",
       "      <td>...</td>\n",
       "      <td>43.00000</td>\n",
       "      <td>71.00</td>\n",
       "      <td>55.0</td>\n",
       "      <td>7.990545</td>\n",
       "      <td>9.355186</td>\n",
       "      <td>0.0</td>\n",
       "      <td>2.175</td>\n",
       "      <td>3.54</td>\n",
       "      <td>10.980</td>\n",
       "      <td>47.05</td>\n",
       "    </tr>\n",
       "  </tbody>\n",
       "</table>\n",
       "<p>4 rows × 40 columns</p>\n",
       "</div>"
      ],
      "text/plain": [
       "        PH                                                 CONDUCTIVITY20 C  \\\n",
       "     count      mean       std  min  25%   50%    75%  max            count   \n",
       "YEAR                                                                          \n",
       "2013  49.0  7.546939  1.594666  0.0  7.7  7.80  8.000  8.6             49.0   \n",
       "2014  70.0  7.842857  1.022014  0.0  7.7  7.85  8.375  8.6             70.0   \n",
       "2015  47.0  8.063830  0.146593  7.7  8.0  8.10  8.200  8.4             47.0   \n",
       "2016  55.0  8.074545  0.276364  7.6  7.9  8.00  8.200  8.9             55.0   \n",
       "\n",
       "                  ...    COLOUR        CHLOROPHYLL A                           \\\n",
       "            mean  ...       75%    max         count      mean       std  min   \n",
       "YEAR              ...                                                           \n",
       "2013  265.367347  ...  40.12000  86.45          49.0  5.316122  6.509407  0.0   \n",
       "2014  275.742857  ...  36.30175  86.00          70.0  5.145143  9.004676  0.0   \n",
       "2015  268.510638  ...  41.00000  80.00          47.0  8.434043  6.252598  0.0   \n",
       "2016  257.818182  ...  43.00000  71.00          55.0  7.990545  9.355186  0.0   \n",
       "\n",
       "                                  \n",
       "        25%   50%     75%    max  \n",
       "YEAR                              \n",
       "2013  1.950  3.13   5.630  32.40  \n",
       "2014  0.000  1.98   3.925  45.52  \n",
       "2015  4.135  6.88  10.420  29.39  \n",
       "2016  2.175  3.54  10.980  47.05  \n",
       "\n",
       "[4 rows x 40 columns]"
      ]
     },
     "execution_count": 25,
     "metadata": {},
     "output_type": "execute_result"
    }
   ],
   "source": [
    "group_by_year.describe()"
   ]
  },
  {
   "cell_type": "code",
   "execution_count": 26,
   "metadata": {
    "colab": {
     "base_uri": "https://localhost:8080/",
     "height": 306
    },
    "colab_type": "code",
    "id": "Dj98j6tdoUEB",
    "outputId": "6f217ad9-89e7-4089-f5b6-892d23b76039"
   },
   "outputs": [
    {
     "data": {
      "text/plain": [
       "[<matplotlib.lines.Line2D at 0x7f7d88c25520>]"
      ]
     },
     "execution_count": 26,
     "metadata": {},
     "output_type": "execute_result"
    },
    {
     "data": {
      "image/png": "[encoded data removed]",
      "text/plain": [
       "<Figure size 1080x360 with 1 Axes>"
      ]
     },
     "metadata": {
      "needs_background": "light"
     },
     "output_type": "display_data"
    }
   ],
   "source": [
    "plt.figure(figsize=(15,5))\n",
    "plt.plot(df[df['YEAR'] == '2013']['DATE'], df[df['YEAR'] == '2013']['PH'], color='red')"
   ]
  },
  {
   "cell_type": "code",
   "execution_count": 27,
   "metadata": {
    "colab": {
     "base_uri": "https://localhost:8080/",
     "height": 337
    },
    "colab_type": "code",
    "id": "kvRnd9oovbeF",
    "outputId": "ee0f04a0-62ca-4831-ac38-03f74438071b"
   },
   "outputs": [
    {
     "data": {
      "text/plain": [
       "[<matplotlib.lines.Line2D at 0x7f7d88b95400>]"
      ]
     },
     "execution_count": 27,
     "metadata": {},
     "output_type": "execute_result"
    },
    {
     "data": {
      "image/png": "[encoded data removed]",
      "text/plain": [
       "<Figure size 1080x360 with 1 Axes>"
      ]
     },
     "metadata": {
      "needs_background": "light"
     },
     "output_type": "display_data"
    }
   ],
   "source": [
    "plt.figure(figsize=(15,5))\n",
    "plt.plot(df[df['YEAR'] == '2014']['DATE'], df[df['YEAR'] == '2014']['PH'], color='blue')"
   ]
  },
  {
   "cell_type": "code",
   "execution_count": 28,
   "metadata": {
    "colab": {
     "base_uri": "https://localhost:8080/",
     "height": 337
    },
    "colab_type": "code",
    "id": "YQ_LBvFYvdMC",
    "outputId": "ee733f49-0078-43e9-e8ff-a5e5b03cd570"
   },
   "outputs": [
    {
     "data": {
      "text/plain": [
       "[<matplotlib.lines.Line2D at 0x7f7d88ab5790>]"
      ]
     },
     "execution_count": 28,
     "metadata": {},
     "output_type": "execute_result"
    },
    {
     "data": {
      "image/png": "[encoded data removed]",
      "text/plain": [
       "<Figure size 1080x360 with 1 Axes>"
      ]
     },
     "metadata": {
      "needs_background": "light"
     },
     "output_type": "display_data"
    }
   ],
   "source": [
    "plt.figure(figsize=(15,5))\n",
    "plt.plot(df[df['YEAR'] == '2015']['DATE'], df[df['YEAR'] == '2015']['PH'], color='green')"
   ]
  },
  {
   "cell_type": "code",
   "execution_count": 29,
   "metadata": {
    "colab": {
     "base_uri": "https://localhost:8080/",
     "height": 337
    },
    "colab_type": "code",
    "id": "I-e-6z9cvfM1",
    "outputId": "a64746de-3303-4b81-c57b-9150483a7718"
   },
   "outputs": [
    {
     "data": {
      "text/plain": [
       "[<matplotlib.lines.Line2D at 0x7f7d88a8d5e0>]"
      ]
     },
     "execution_count": 29,
     "metadata": {},
     "output_type": "execute_result"
    },
    {
     "data": {
      "image/png": "[encoded data removed]",
      "text/plain": [
       "<Figure size 1080x360 with 1 Axes>"
      ]
     },
     "metadata": {
      "needs_background": "light"
     },
     "output_type": "display_data"
    }
   ],
   "source": [
    "plt.figure(figsize=(15,5))\n",
    "plt.plot(df[df['YEAR'] == '2016']['DATE'], df[df['YEAR'] == '2016']['PH'], color='pink')"
   ]
  },
  {
   "cell_type": "code",
   "execution_count": 30,
   "metadata": {
    "colab": {
     "base_uri": "https://localhost:8080/",
     "height": 204
    },
    "colab_type": "code",
    "id": "5X-9z9hGvBr8",
    "outputId": "be087d3c-a546-4876-a329-66f07e6c75d7"
   },
   "outputs": [
    {
     "data": {
      "text/html": [
       "<div>\n",
       "<style scoped>\n",
       "    .dataframe tbody tr th:only-of-type {\n",
       "        vertical-align: middle;\n",
       "    }\n",
       "\n",
       "    .dataframe tbody tr th {\n",
       "        vertical-align: top;\n",
       "    }\n",
       "\n",
       "    .dataframe thead th {\n",
       "        text-align: right;\n",
       "    }\n",
       "</style>\n",
       "<table border=\"1\" class=\"dataframe\">\n",
       "  <thead>\n",
       "    <tr style=\"text-align: right;\">\n",
       "      <th></th>\n",
       "      <th>YEAR</th>\n",
       "      <th>DATE</th>\n",
       "      <th>TIME</th>\n",
       "      <th>PH</th>\n",
       "      <th>CONDUCTIVITY20 C</th>\n",
       "      <th>TURBIDITY</th>\n",
       "      <th>COLOUR</th>\n",
       "      <th>CHLOROPHYLL A</th>\n",
       "    </tr>\n",
       "  </thead>\n",
       "  <tbody>\n",
       "    <tr>\n",
       "      <th>1</th>\n",
       "      <td>2013</td>\n",
       "      <td>2013-01-14</td>\n",
       "      <td>1900-01-01 09:15:00</td>\n",
       "      <td>7.6</td>\n",
       "      <td>264.0</td>\n",
       "      <td>3.0</td>\n",
       "      <td>42.20</td>\n",
       "      <td>0.0</td>\n",
       "    </tr>\n",
       "    <tr>\n",
       "      <th>2</th>\n",
       "      <td>2013</td>\n",
       "      <td>2013-01-24</td>\n",
       "      <td>1900-01-01 09:41:00</td>\n",
       "      <td>7.8</td>\n",
       "      <td>330.0</td>\n",
       "      <td>1.9</td>\n",
       "      <td>30.40</td>\n",
       "      <td>0.0</td>\n",
       "    </tr>\n",
       "    <tr>\n",
       "      <th>3</th>\n",
       "      <td>2013</td>\n",
       "      <td>2013-01-30</td>\n",
       "      <td>1900-01-01 09:24:00</td>\n",
       "      <td>7.5</td>\n",
       "      <td>259.0</td>\n",
       "      <td>8.6</td>\n",
       "      <td>37.84</td>\n",
       "      <td>0.0</td>\n",
       "    </tr>\n",
       "    <tr>\n",
       "      <th>4</th>\n",
       "      <td>2013</td>\n",
       "      <td>2013-02-05</td>\n",
       "      <td>1900-01-01 10:05:00</td>\n",
       "      <td>7.8</td>\n",
       "      <td>267.0</td>\n",
       "      <td>4.5</td>\n",
       "      <td>34.40</td>\n",
       "      <td>2.0</td>\n",
       "    </tr>\n",
       "    <tr>\n",
       "      <th>5</th>\n",
       "      <td>2013</td>\n",
       "      <td>2013-02-14</td>\n",
       "      <td>1900-01-01 11:06:00</td>\n",
       "      <td>0.0</td>\n",
       "      <td>0.0</td>\n",
       "      <td>0.0</td>\n",
       "      <td>0.00</td>\n",
       "      <td>4.0</td>\n",
       "    </tr>\n",
       "  </tbody>\n",
       "</table>\n",
       "</div>"
      ],
      "text/plain": [
       "   YEAR       DATE                TIME   PH  CONDUCTIVITY20 C  TURBIDITY  \\\n",
       "1  2013 2013-01-14 1900-01-01 09:15:00  7.6             264.0        3.0   \n",
       "2  2013 2013-01-24 1900-01-01 09:41:00  7.8             330.0        1.9   \n",
       "3  2013 2013-01-30 1900-01-01 09:24:00  7.5             259.0        8.6   \n",
       "4  2013 2013-02-05 1900-01-01 10:05:00  7.8             267.0        4.5   \n",
       "5  2013 2013-02-14 1900-01-01 11:06:00  0.0               0.0        0.0   \n",
       "\n",
       "   COLOUR  CHLOROPHYLL A  \n",
       "1   42.20            0.0  \n",
       "2   30.40            0.0  \n",
       "3   37.84            0.0  \n",
       "4   34.40            2.0  \n",
       "5    0.00            4.0  "
      ]
     },
     "execution_count": 30,
     "metadata": {},
     "output_type": "execute_result"
    }
   ],
   "source": [
    "df.head()"
   ]
  },
  {
   "cell_type": "code",
   "execution_count": 31,
   "metadata": {
    "colab": {},
    "colab_type": "code",
    "id": "nY5CcCkbO27T"
   },
   "outputs": [],
   "source": [
    "import calendar "
   ]
  },
  {
   "cell_type": "code",
   "execution_count": 32,
   "metadata": {
    "colab": {},
    "colab_type": "code",
    "id": "YdMshtPWcAMP"
   },
   "outputs": [],
   "source": [
    "months = {month: calendar.month_abbr[month] for month in range(1, 13)}"
   ]
  },
  {
   "cell_type": "code",
   "execution_count": 33,
   "metadata": {
    "colab": {},
    "colab_type": "code",
    "id": "fWcacGuogQIc"
   },
   "outputs": [],
   "source": [
    "df['MONTH'] = df['DATE'].apply(lambda cell: months[cell.month])"
   ]
  },
  {
   "cell_type": "code",
   "execution_count": 34,
   "metadata": {
    "colab": {
     "base_uri": "https://localhost:8080/",
     "height": 204
    },
    "colab_type": "code",
    "id": "oqXsAGZ0jGDO",
    "outputId": "ff753664-2b31-451e-89a6-d99456f17ec9"
   },
   "outputs": [
    {
     "data": {
      "text/html": [
       "<div>\n",
       "<style scoped>\n",
       "    .dataframe tbody tr th:only-of-type {\n",
       "        vertical-align: middle;\n",
       "    }\n",
       "\n",
       "    .dataframe tbody tr th {\n",
       "        vertical-align: top;\n",
       "    }\n",
       "\n",
       "    .dataframe thead th {\n",
       "        text-align: right;\n",
       "    }\n",
       "</style>\n",
       "<table border=\"1\" class=\"dataframe\">\n",
       "  <thead>\n",
       "    <tr style=\"text-align: right;\">\n",
       "      <th></th>\n",
       "      <th>YEAR</th>\n",
       "      <th>DATE</th>\n",
       "      <th>TIME</th>\n",
       "      <th>PH</th>\n",
       "      <th>CONDUCTIVITY20 C</th>\n",
       "      <th>TURBIDITY</th>\n",
       "      <th>COLOUR</th>\n",
       "      <th>CHLOROPHYLL A</th>\n",
       "      <th>MONTH</th>\n",
       "    </tr>\n",
       "  </thead>\n",
       "  <tbody>\n",
       "    <tr>\n",
       "      <th>1</th>\n",
       "      <td>2013</td>\n",
       "      <td>2013-01-14</td>\n",
       "      <td>1900-01-01 09:15:00</td>\n",
       "      <td>7.6</td>\n",
       "      <td>264.0</td>\n",
       "      <td>3.0</td>\n",
       "      <td>42.20</td>\n",
       "      <td>0.0</td>\n",
       "      <td>Jan</td>\n",
       "    </tr>\n",
       "    <tr>\n",
       "      <th>2</th>\n",
       "      <td>2013</td>\n",
       "      <td>2013-01-24</td>\n",
       "      <td>1900-01-01 09:41:00</td>\n",
       "      <td>7.8</td>\n",
       "      <td>330.0</td>\n",
       "      <td>1.9</td>\n",
       "      <td>30.40</td>\n",
       "      <td>0.0</td>\n",
       "      <td>Jan</td>\n",
       "    </tr>\n",
       "    <tr>\n",
       "      <th>3</th>\n",
       "      <td>2013</td>\n",
       "      <td>2013-01-30</td>\n",
       "      <td>1900-01-01 09:24:00</td>\n",
       "      <td>7.5</td>\n",
       "      <td>259.0</td>\n",
       "      <td>8.6</td>\n",
       "      <td>37.84</td>\n",
       "      <td>0.0</td>\n",
       "      <td>Jan</td>\n",
       "    </tr>\n",
       "    <tr>\n",
       "      <th>4</th>\n",
       "      <td>2013</td>\n",
       "      <td>2013-02-05</td>\n",
       "      <td>1900-01-01 10:05:00</td>\n",
       "      <td>7.8</td>\n",
       "      <td>267.0</td>\n",
       "      <td>4.5</td>\n",
       "      <td>34.40</td>\n",
       "      <td>2.0</td>\n",
       "      <td>Feb</td>\n",
       "    </tr>\n",
       "    <tr>\n",
       "      <th>5</th>\n",
       "      <td>2013</td>\n",
       "      <td>2013-02-14</td>\n",
       "      <td>1900-01-01 11:06:00</td>\n",
       "      <td>0.0</td>\n",
       "      <td>0.0</td>\n",
       "      <td>0.0</td>\n",
       "      <td>0.00</td>\n",
       "      <td>4.0</td>\n",
       "      <td>Feb</td>\n",
       "    </tr>\n",
       "  </tbody>\n",
       "</table>\n",
       "</div>"
      ],
      "text/plain": [
       "   YEAR       DATE                TIME   PH  CONDUCTIVITY20 C  TURBIDITY  \\\n",
       "1  2013 2013-01-14 1900-01-01 09:15:00  7.6             264.0        3.0   \n",
       "2  2013 2013-01-24 1900-01-01 09:41:00  7.8             330.0        1.9   \n",
       "3  2013 2013-01-30 1900-01-01 09:24:00  7.5             259.0        8.6   \n",
       "4  2013 2013-02-05 1900-01-01 10:05:00  7.8             267.0        4.5   \n",
       "5  2013 2013-02-14 1900-01-01 11:06:00  0.0               0.0        0.0   \n",
       "\n",
       "   COLOUR  CHLOROPHYLL A MONTH  \n",
       "1   42.20            0.0   Jan  \n",
       "2   30.40            0.0   Jan  \n",
       "3   37.84            0.0   Jan  \n",
       "4   34.40            2.0   Feb  \n",
       "5    0.00            4.0   Feb  "
      ]
     },
     "execution_count": 34,
     "metadata": {},
     "output_type": "execute_result"
    }
   ],
   "source": [
    "df.head()"
   ]
  },
  {
   "cell_type": "code",
   "execution_count": 35,
   "metadata": {
    "colab": {
     "base_uri": "https://localhost:8080/",
     "height": 68
    },
    "colab_type": "code",
    "id": "zZlrhVLKjMNW",
    "outputId": "da2c1c8a-caef-4272-a582-e9068f21f94b"
   },
   "outputs": [
    {
     "data": {
      "text/plain": [
       "Index(['YEAR', 'DATE', 'TIME', 'PH', 'CONDUCTIVITY20 C', 'TURBIDITY', 'COLOUR',\n",
       "       'CHLOROPHYLL A', 'MONTH'],\n",
       "      dtype='object')"
      ]
     },
     "execution_count": 35,
     "metadata": {},
     "output_type": "execute_result"
    }
   ],
   "source": [
    "df.columns"
   ]
  },
  {
   "cell_type": "code",
   "execution_count": 36,
   "metadata": {
    "colab": {},
    "colab_type": "code",
    "id": "rrCY86iljMic"
   },
   "outputs": [],
   "source": [
    "df = df[['YEAR', 'MONTH', 'DATE' , 'PH', 'CONDUCTIVITY20 C', 'TURBIDITY', 'COLOUR','CHLOROPHYLL A']]"
   ]
  },
  {
   "cell_type": "code",
   "execution_count": 37,
   "metadata": {
    "colab": {},
    "colab_type": "code",
    "id": "KlMWBiqgtcOz"
   },
   "outputs": [],
   "source": [
    "df = df[['YEAR', 'MONTH', 'PH', 'CONDUCTIVITY20 C', 'TURBIDITY', 'COLOUR','CHLOROPHYLL A']]"
   ]
  },
  {
   "cell_type": "code",
   "execution_count": 569,
   "metadata": {
    "colab": {},
    "colab_type": "code",
    "id": "cidwiN4-jv9y"
   },
   "outputs": [],
   "source": [
    "df_2013 = df[df['YEAR'] == '2013']\n",
    "df_2014 = df[df['YEAR'] == '2014']\n",
    "df_2015 = df[df['YEAR'] == '2015']\n",
    "df_2016 = df[df['YEAR'] == '2016']"
   ]
  },
  {
   "cell_type": "code",
   "execution_count": 570,
   "metadata": {
    "colab": {},
    "colab_type": "code",
    "id": "5TciQ7i9v3nR"
   },
   "outputs": [],
   "source": [
    "g2013 = df_2013.groupby('MONTH')\n",
    "g2014 = df_2014.groupby('MONTH')\n",
    "g2015 = df_2015.groupby('MONTH')\n",
    "g2016 = df_2016.groupby('MONTH')"
   ]
  },
  {
   "cell_type": "code",
   "execution_count": 571,
   "metadata": {
    "colab": {
     "base_uri": "https://localhost:8080/",
     "height": 391
    },
    "colab_type": "code",
    "id": "ACL0sUAuwedy",
    "outputId": "1f94c66b-9991-477e-9c93-6f87d63fd446"
   },
   "outputs": [
    {
     "data": {
      "text/plain": [
       "[<matplotlib.lines.Line2D at 0x7f7d855ee4c0>]"
      ]
     },
     "execution_count": 571,
     "metadata": {},
     "output_type": "execute_result"
    },
    {
     "data": {
      "image/png": "[encoded data removed]",
      "text/plain": [
       "<Figure size 1440x432 with 1 Axes>"
      ]
     },
     "metadata": {
      "needs_background": "light"
     },
     "output_type": "display_data"
    }
   ],
   "source": [
    "plt.figure(figsize=(20,6))\n",
    "plt.plot(g2013['MONTH'].head(), g2013['PH'].head(), color='red')\n",
    "plt.plot(g2014['MONTH'].head(), g2014['PH'].head(), color='green')\n",
    "plt.plot(g2015['MONTH'].head(), g2015['PH'].head(), color='blue')\n",
    "plt.plot(g2016['MONTH'].head(), g2016['PH'].head(), color='pink')"
   ]
  },
  {
   "cell_type": "code",
   "execution_count": 572,
   "metadata": {
    "colab": {
     "base_uri": "https://localhost:8080/",
     "height": 452
    },
    "colab_type": "code",
    "id": "E3-LG2WxxGKy",
    "outputId": "dc5eefaa-ca90-47fa-f0bb-2303ff505cea"
   },
   "outputs": [
    {
     "data": {
      "text/html": [
       "<div>\n",
       "<style scoped>\n",
       "    .dataframe tbody tr th:only-of-type {\n",
       "        vertical-align: middle;\n",
       "    }\n",
       "\n",
       "    .dataframe tbody tr th {\n",
       "        vertical-align: top;\n",
       "    }\n",
       "\n",
       "    .dataframe thead th {\n",
       "        text-align: right;\n",
       "    }\n",
       "</style>\n",
       "<table border=\"1\" class=\"dataframe\">\n",
       "  <thead>\n",
       "    <tr style=\"text-align: right;\">\n",
       "      <th></th>\n",
       "      <th>PH</th>\n",
       "      <th>CONDUCTIVITY20 C</th>\n",
       "      <th>TURBIDITY</th>\n",
       "      <th>COLOUR</th>\n",
       "      <th>CHLOROPHYLL A</th>\n",
       "    </tr>\n",
       "    <tr>\n",
       "      <th>MONTH</th>\n",
       "      <th></th>\n",
       "      <th></th>\n",
       "      <th></th>\n",
       "      <th></th>\n",
       "      <th></th>\n",
       "    </tr>\n",
       "  </thead>\n",
       "  <tbody>\n",
       "    <tr>\n",
       "      <th>Apr</th>\n",
       "      <td>8.100000</td>\n",
       "      <td>259.250000</td>\n",
       "      <td>2.600000</td>\n",
       "      <td>21.182500</td>\n",
       "      <td>11.375000</td>\n",
       "    </tr>\n",
       "    <tr>\n",
       "      <th>Aug</th>\n",
       "      <td>7.950000</td>\n",
       "      <td>266.000000</td>\n",
       "      <td>3.100000</td>\n",
       "      <td>26.362500</td>\n",
       "      <td>9.070000</td>\n",
       "    </tr>\n",
       "    <tr>\n",
       "      <th>Dec</th>\n",
       "      <td>7.850000</td>\n",
       "      <td>293.500000</td>\n",
       "      <td>3.760000</td>\n",
       "      <td>38.165000</td>\n",
       "      <td>3.300000</td>\n",
       "    </tr>\n",
       "    <tr>\n",
       "      <th>Feb</th>\n",
       "      <td>6.220000</td>\n",
       "      <td>209.000000</td>\n",
       "      <td>5.020000</td>\n",
       "      <td>28.164000</td>\n",
       "      <td>3.060000</td>\n",
       "    </tr>\n",
       "    <tr>\n",
       "      <th>Jan</th>\n",
       "      <td>7.633333</td>\n",
       "      <td>284.333333</td>\n",
       "      <td>4.500000</td>\n",
       "      <td>36.813333</td>\n",
       "      <td>0.000000</td>\n",
       "    </tr>\n",
       "    <tr>\n",
       "      <th>Jul</th>\n",
       "      <td>7.800000</td>\n",
       "      <td>286.333333</td>\n",
       "      <td>2.633333</td>\n",
       "      <td>25.933333</td>\n",
       "      <td>2.386667</td>\n",
       "    </tr>\n",
       "    <tr>\n",
       "      <th>Jun</th>\n",
       "      <td>7.675000</td>\n",
       "      <td>305.500000</td>\n",
       "      <td>1.975000</td>\n",
       "      <td>24.950000</td>\n",
       "      <td>4.375000</td>\n",
       "    </tr>\n",
       "    <tr>\n",
       "      <th>Mar</th>\n",
       "      <td>8.125000</td>\n",
       "      <td>256.000000</td>\n",
       "      <td>7.600000</td>\n",
       "      <td>33.165000</td>\n",
       "      <td>12.375000</td>\n",
       "    </tr>\n",
       "    <tr>\n",
       "      <th>May</th>\n",
       "      <td>7.950000</td>\n",
       "      <td>286.000000</td>\n",
       "      <td>2.185000</td>\n",
       "      <td>22.927500</td>\n",
       "      <td>8.325000</td>\n",
       "    </tr>\n",
       "    <tr>\n",
       "      <th>Nov</th>\n",
       "      <td>7.900000</td>\n",
       "      <td>277.250000</td>\n",
       "      <td>1.900000</td>\n",
       "      <td>53.517000</td>\n",
       "      <td>3.997500</td>\n",
       "    </tr>\n",
       "    <tr>\n",
       "      <th>Oct</th>\n",
       "      <td>6.180000</td>\n",
       "      <td>213.600000</td>\n",
       "      <td>2.280000</td>\n",
       "      <td>60.762000</td>\n",
       "      <td>2.336000</td>\n",
       "    </tr>\n",
       "    <tr>\n",
       "      <th>Sep</th>\n",
       "      <td>7.860000</td>\n",
       "      <td>280.800000</td>\n",
       "      <td>1.308000</td>\n",
       "      <td>28.114000</td>\n",
       "      <td>3.016000</td>\n",
       "    </tr>\n",
       "  </tbody>\n",
       "</table>\n",
       "</div>"
      ],
      "text/plain": [
       "             PH  CONDUCTIVITY20 C  TURBIDITY     COLOUR  CHLOROPHYLL A\n",
       "MONTH                                                                 \n",
       "Apr    8.100000        259.250000   2.600000  21.182500      11.375000\n",
       "Aug    7.950000        266.000000   3.100000  26.362500       9.070000\n",
       "Dec    7.850000        293.500000   3.760000  38.165000       3.300000\n",
       "Feb    6.220000        209.000000   5.020000  28.164000       3.060000\n",
       "Jan    7.633333        284.333333   4.500000  36.813333       0.000000\n",
       "Jul    7.800000        286.333333   2.633333  25.933333       2.386667\n",
       "Jun    7.675000        305.500000   1.975000  24.950000       4.375000\n",
       "Mar    8.125000        256.000000   7.600000  33.165000      12.375000\n",
       "May    7.950000        286.000000   2.185000  22.927500       8.325000\n",
       "Nov    7.900000        277.250000   1.900000  53.517000       3.997500\n",
       "Oct    6.180000        213.600000   2.280000  60.762000       2.336000\n",
       "Sep    7.860000        280.800000   1.308000  28.114000       3.016000"
      ]
     },
     "execution_count": 572,
     "metadata": {},
     "output_type": "execute_result"
    }
   ],
   "source": [
    "g2013.mean()"
   ]
  },
  {
   "cell_type": "code",
   "execution_count": 573,
   "metadata": {},
   "outputs": [],
   "source": [
    "g2013 = pd.DataFrame(g2013.head())"
   ]
  },
  {
   "cell_type": "code",
   "execution_count": 574,
   "metadata": {},
   "outputs": [],
   "source": [
    "g2013.replace(0.0, np.nan, inplace=True)"
   ]
  },
  {
   "cell_type": "code",
   "execution_count": 575,
   "metadata": {},
   "outputs": [
    {
     "data": {
      "text/plain": [
       "<AxesSubplot:>"
      ]
     },
     "execution_count": 575,
     "metadata": {},
     "output_type": "execute_result"
    },
    {
     "data": {
      "image/png": "[encoded data removed]",
      "text/plain": [
       "<Figure size 1152x720 with 1 Axes>"
      ]
     },
     "metadata": {
      "needs_background": "light"
     },
     "output_type": "display_data"
    }
   ],
   "source": [
    "plt.figure(figsize=(16,10))\n",
    "sns.heatmap(g2013.isnull(), yticklabels=False, cbar=False, cmap='viridis')"
   ]
  },
  {
   "cell_type": "markdown",
   "metadata": {
    "colab": {
     "base_uri": "https://localhost:8080/",
     "height": 34
    },
    "colab_type": "code",
    "id": "HpsQf1vN1Bkm",
    "outputId": "4e39d33f-9347-4474-bba9-d27de1796dea"
   },
   "source": [
    "#Mes Jan\n",
    "g2013_jan = g2013[g2013['MONTH'] == 'Jan']\n",
    "g2013_jan = pd.DataFrame(g2013_jan)\n",
    "\n",
    "ph_mean = g2013_jan['PH'].mean()\n",
    "\n",
    "g2013_jan.replace(0.0, np.nan, inplace=True)\n",
    "\n",
    "tam = g2013_jan['PH'].isnull().sum()\n",
    "print('===', tam)\n",
    "\n",
    "if tam > 0:\n",
    "    g2013_jan['PH'] = g2013_jan['PH'].fillna(ph_mean, limit=tam)\n"
   ]
  },
  {
   "cell_type": "code",
   "execution_count": 576,
   "metadata": {},
   "outputs": [],
   "source": [
    "g2013 = pd.DataFrame(g2013.head())"
   ]
  },
  {
   "cell_type": "code",
   "execution_count": 577,
   "metadata": {},
   "outputs": [],
   "source": [
    "## comb\n",
    "def fill_mean_in_nan(column, dataframe_year, months_datetime):\n",
    "    #dataframe_year = pd.DataFrame(dataframe_year.head())\n",
    "    \n",
    "    months_data = []\n",
    "    \n",
    "    for key in months_datetime.keys():\n",
    "        \n",
    "        g2013_month = dataframe_year[dataframe_year['MONTH'] == months_datetime[key]]\n",
    "        g2013_montn = pd.DataFrame(g2013_month)\n",
    "        \n",
    "        qtd_nan = g2013_month[column].isna().sum()\n",
    "        \n",
    "        if qtd_nan > 0:\n",
    "            g2013_month[column] = g2013_month[column].fillna(ph_mean, limit=qtd_nan)\n",
    "        \n",
    "        months_data.append(g2013_month)\n",
    "        \n",
    "    return months_data"
   ]
  },
  {
   "cell_type": "code",
   "execution_count": 578,
   "metadata": {},
   "outputs": [
    {
     "name": "stderr",
     "output_type": "stream",
     "text": [
      "<ipython-input-577-9bd9d85f4c7c>:14: SettingWithCopyWarning: \n",
      "A value is trying to be set on a copy of a slice from a DataFrame.\n",
      "Try using .loc[row_indexer,col_indexer] = value instead\n",
      "\n",
      "See the caveats in the documentation: https://pandas.pydata.org/pandas-docs/stable/user_guide/indexing.html#returning-a-view-versus-a-copy\n",
      "  g2013_month[column] = g2013_month[column].fillna(ph_mean, limit=qtd_nan)\n"
     ]
    }
   ],
   "source": [
    "a = fill_mean_in_nan('PH',g2013, months)"
   ]
  },
  {
   "cell_type": "code",
   "execution_count": 579,
   "metadata": {},
   "outputs": [
    {
     "data": {
      "text/plain": [
       "[   YEAR MONTH   PH  CONDUCTIVITY20 C  TURBIDITY  COLOUR  CHLOROPHYLL A\n",
       " 1  2013   Jan  7.6             264.0        3.0   42.20            NaN\n",
       " 2  2013   Jan  7.8             330.0        1.9   30.40            NaN\n",
       " 3  2013   Jan  7.5             259.0        8.6   37.84            NaN,\n",
       "    YEAR MONTH        PH  CONDUCTIVITY20 C  TURBIDITY  COLOUR  CHLOROPHYLL A\n",
       " 4  2013   Feb  7.800000             267.0        4.5    34.4            2.0\n",
       " 5  2013   Feb  7.633333               NaN        NaN     NaN            4.0,\n",
       " Empty DataFrame\n",
       " Columns: [YEAR, MONTH, PH, CONDUCTIVITY20 C, TURBIDITY, COLOUR, CHLOROPHYLL A]\n",
       " Index: [],\n",
       " Empty DataFrame\n",
       " Columns: [YEAR, MONTH, PH, CONDUCTIVITY20 C, TURBIDITY, COLOUR, CHLOROPHYLL A]\n",
       " Index: [],\n",
       " Empty DataFrame\n",
       " Columns: [YEAR, MONTH, PH, CONDUCTIVITY20 C, TURBIDITY, COLOUR, CHLOROPHYLL A]\n",
       " Index: [],\n",
       " Empty DataFrame\n",
       " Columns: [YEAR, MONTH, PH, CONDUCTIVITY20 C, TURBIDITY, COLOUR, CHLOROPHYLL A]\n",
       " Index: [],\n",
       " Empty DataFrame\n",
       " Columns: [YEAR, MONTH, PH, CONDUCTIVITY20 C, TURBIDITY, COLOUR, CHLOROPHYLL A]\n",
       " Index: [],\n",
       " Empty DataFrame\n",
       " Columns: [YEAR, MONTH, PH, CONDUCTIVITY20 C, TURBIDITY, COLOUR, CHLOROPHYLL A]\n",
       " Index: [],\n",
       " Empty DataFrame\n",
       " Columns: [YEAR, MONTH, PH, CONDUCTIVITY20 C, TURBIDITY, COLOUR, CHLOROPHYLL A]\n",
       " Index: [],\n",
       " Empty DataFrame\n",
       " Columns: [YEAR, MONTH, PH, CONDUCTIVITY20 C, TURBIDITY, COLOUR, CHLOROPHYLL A]\n",
       " Index: [],\n",
       " Empty DataFrame\n",
       " Columns: [YEAR, MONTH, PH, CONDUCTIVITY20 C, TURBIDITY, COLOUR, CHLOROPHYLL A]\n",
       " Index: [],\n",
       " Empty DataFrame\n",
       " Columns: [YEAR, MONTH, PH, CONDUCTIVITY20 C, TURBIDITY, COLOUR, CHLOROPHYLL A]\n",
       " Index: []]"
      ]
     },
     "execution_count": 579,
     "metadata": {},
     "output_type": "execute_result"
    }
   ],
   "source": [
    "a"
   ]
  },
  {
   "cell_type": "code",
   "execution_count": 581,
   "metadata": {},
   "outputs": [
    {
     "data": {
      "text/html": [
       "<div>\n",
       "<style scoped>\n",
       "    .dataframe tbody tr th:only-of-type {\n",
       "        vertical-align: middle;\n",
       "    }\n",
       "\n",
       "    .dataframe tbody tr th {\n",
       "        vertical-align: top;\n",
       "    }\n",
       "\n",
       "    .dataframe thead th {\n",
       "        text-align: right;\n",
       "    }\n",
       "</style>\n",
       "<table border=\"1\" class=\"dataframe\">\n",
       "  <thead>\n",
       "    <tr style=\"text-align: right;\">\n",
       "      <th></th>\n",
       "      <th>YEAR</th>\n",
       "      <th>MONTH</th>\n",
       "      <th>PH</th>\n",
       "      <th>CONDUCTIVITY20 C</th>\n",
       "      <th>TURBIDITY</th>\n",
       "      <th>COLOUR</th>\n",
       "      <th>CHLOROPHYLL A</th>\n",
       "    </tr>\n",
       "  </thead>\n",
       "  <tbody>\n",
       "    <tr>\n",
       "      <th>4</th>\n",
       "      <td>2013</td>\n",
       "      <td>Feb</td>\n",
       "      <td>7.800000</td>\n",
       "      <td>267.0</td>\n",
       "      <td>4.5</td>\n",
       "      <td>34.4</td>\n",
       "      <td>2.0</td>\n",
       "    </tr>\n",
       "    <tr>\n",
       "      <th>5</th>\n",
       "      <td>2013</td>\n",
       "      <td>Feb</td>\n",
       "      <td>7.633333</td>\n",
       "      <td>NaN</td>\n",
       "      <td>NaN</td>\n",
       "      <td>NaN</td>\n",
       "      <td>4.0</td>\n",
       "    </tr>\n",
       "  </tbody>\n",
       "</table>\n",
       "</div>"
      ],
      "text/plain": [
       "   YEAR MONTH        PH  CONDUCTIVITY20 C  TURBIDITY  COLOUR  CHLOROPHYLL A\n",
       "4  2013   Feb  7.800000             267.0        4.5    34.4            2.0\n",
       "5  2013   Feb  7.633333               NaN        NaN     NaN            4.0"
      ]
     },
     "execution_count": 581,
     "metadata": {},
     "output_type": "execute_result"
    }
   ],
   "source": [
    "a[1]"
   ]
  },
  {
   "cell_type": "code",
   "execution_count": 555,
   "metadata": {},
   "outputs": [
    {
     "data": {
      "text/html": [
       "<div>\n",
       "<style scoped>\n",
       "    .dataframe tbody tr th:only-of-type {\n",
       "        vertical-align: middle;\n",
       "    }\n",
       "\n",
       "    .dataframe tbody tr th {\n",
       "        vertical-align: top;\n",
       "    }\n",
       "\n",
       "    .dataframe thead th {\n",
       "        text-align: right;\n",
       "    }\n",
       "</style>\n",
       "<table border=\"1\" class=\"dataframe\">\n",
       "  <thead>\n",
       "    <tr style=\"text-align: right;\">\n",
       "      <th></th>\n",
       "      <th>YEAR</th>\n",
       "      <th>MONTH</th>\n",
       "      <th>PH</th>\n",
       "      <th>CONDUCTIVITY20 C</th>\n",
       "      <th>TURBIDITY</th>\n",
       "      <th>COLOUR</th>\n",
       "      <th>CHLOROPHYLL A</th>\n",
       "    </tr>\n",
       "  </thead>\n",
       "  <tbody>\n",
       "  </tbody>\n",
       "</table>\n",
       "</div>"
      ],
      "text/plain": [
       "Empty DataFrame\n",
       "Columns: [YEAR, MONTH, PH, CONDUCTIVITY20 C, TURBIDITY, COLOUR, CHLOROPHYLL A]\n",
       "Index: []"
      ]
     },
     "execution_count": 555,
     "metadata": {},
     "output_type": "execute_result"
    }
   ],
   "source": [
    "a[2]"
   ]
  },
  {
   "cell_type": "code",
   "execution_count": 270,
   "metadata": {},
   "outputs": [
    {
     "data": {
      "text/plain": [
       "dict_keys([1, 2, 3, 4, 5, 6, 7, 8, 9, 10, 11, 12])"
      ]
     },
     "execution_count": 270,
     "metadata": {},
     "output_type": "execute_result"
    }
   ],
   "source": [
    "g2013_month = g2013[g2013['MONTH'] == months_datetime[key]]"
   ]
  },
  {
   "cell_type": "code",
   "execution_count": 536,
   "metadata": {},
   "outputs": [
    {
     "data": {
      "text/plain": [
       "4    7.80\n",
       "5    6.22\n",
       "6    7.60\n",
       "7    7.50\n",
       "8    8.20\n",
       "Name: PH, dtype: float64"
      ]
     },
     "execution_count": 536,
     "metadata": {},
     "output_type": "execute_result"
    }
   ],
   "source": [
    "g2013_fev['PH']"
   ]
  },
  {
   "cell_type": "code",
   "execution_count": 505,
   "metadata": {},
   "outputs": [
    {
     "ename": "TypeError",
     "evalue": "__init__() takes from 1 to 6 positional arguments but 13 were given",
     "output_type": "error",
     "traceback": [
      "\u001b[0;31m---------------------------------------------------------------------------\u001b[0m",
      "\u001b[0;31mTypeError\u001b[0m                                 Traceback (most recent call last)",
      "\u001b[0;32m<ipython-input-505-1de42a2f3a0d>\u001b[0m in \u001b[0;36m<module>\u001b[0;34m\u001b[0m\n\u001b[0;32m----> 1\u001b[0;31m \u001b[0mpd\u001b[0m\u001b[0;34m.\u001b[0m\u001b[0mDataFrame\u001b[0m\u001b[0;34m(\u001b[0m\u001b[0;34m*\u001b[0m\u001b[0ma\u001b[0m\u001b[0;34m)\u001b[0m\u001b[0;34m\u001b[0m\u001b[0;34m\u001b[0m\u001b[0m\n\u001b[0m",
      "\u001b[0;31mTypeError\u001b[0m: __init__() takes from 1 to 6 positional arguments but 13 were given"
     ]
    }
   ],
   "source": []
  },
  {
   "cell_type": "code",
   "execution_count": 502,
   "metadata": {},
   "outputs": [
    {
     "data": {
      "text/plain": [
       "<AxesSubplot:>"
      ]
     },
     "execution_count": 502,
     "metadata": {},
     "output_type": "execute_result"
    },
    {
     "data": {
      "image/png": "[encoded data removed]",
      "text/plain": [
       "<Figure size 1152x720 with 1 Axes>"
      ]
     },
     "metadata": {
      "needs_background": "light"
     },
     "output_type": "display_data"
    }
   ],
   "source": [
    "plt.figure(figsize=(16,10))\n",
    "sns.heatmap(pd.DataFrame(a).isnull(), yticklabels=False, cbar=False, cmap='viridis')"
   ]
  },
  {
   "cell_type": "code",
   "execution_count": 317,
   "metadata": {},
   "outputs": [
    {
     "data": {
      "text/html": [
       "<div>\n",
       "<style scoped>\n",
       "    .dataframe tbody tr th:only-of-type {\n",
       "        vertical-align: middle;\n",
       "    }\n",
       "\n",
       "    .dataframe tbody tr th {\n",
       "        vertical-align: top;\n",
       "    }\n",
       "\n",
       "    .dataframe thead th {\n",
       "        text-align: right;\n",
       "    }\n",
       "</style>\n",
       "<table border=\"1\" class=\"dataframe\">\n",
       "  <thead>\n",
       "    <tr style=\"text-align: right;\">\n",
       "      <th></th>\n",
       "      <th>YEAR</th>\n",
       "      <th>MONTH</th>\n",
       "      <th>PH</th>\n",
       "      <th>CONDUCTIVITY20 C</th>\n",
       "      <th>TURBIDITY</th>\n",
       "      <th>COLOUR</th>\n",
       "      <th>CHLOROPHYLL A</th>\n",
       "    </tr>\n",
       "  </thead>\n",
       "  <tbody>\n",
       "    <tr>\n",
       "      <th>1</th>\n",
       "      <td>2013</td>\n",
       "      <td>Jan</td>\n",
       "      <td>7.6</td>\n",
       "      <td>264.0</td>\n",
       "      <td>3.00</td>\n",
       "      <td>42.200</td>\n",
       "      <td>0.00</td>\n",
       "    </tr>\n",
       "    <tr>\n",
       "      <th>2</th>\n",
       "      <td>2013</td>\n",
       "      <td>Jan</td>\n",
       "      <td>7.8</td>\n",
       "      <td>330.0</td>\n",
       "      <td>1.90</td>\n",
       "      <td>30.400</td>\n",
       "      <td>0.00</td>\n",
       "    </tr>\n",
       "    <tr>\n",
       "      <th>3</th>\n",
       "      <td>2013</td>\n",
       "      <td>Jan</td>\n",
       "      <td>7.5</td>\n",
       "      <td>259.0</td>\n",
       "      <td>8.60</td>\n",
       "      <td>37.840</td>\n",
       "      <td>0.00</td>\n",
       "    </tr>\n",
       "    <tr>\n",
       "      <th>4</th>\n",
       "      <td>2013</td>\n",
       "      <td>Feb</td>\n",
       "      <td>7.8</td>\n",
       "      <td>267.0</td>\n",
       "      <td>4.50</td>\n",
       "      <td>34.400</td>\n",
       "      <td>2.00</td>\n",
       "    </tr>\n",
       "    <tr>\n",
       "      <th>5</th>\n",
       "      <td>2013</td>\n",
       "      <td>Feb</td>\n",
       "      <td>0.0</td>\n",
       "      <td>0.0</td>\n",
       "      <td>0.00</td>\n",
       "      <td>0.000</td>\n",
       "      <td>4.00</td>\n",
       "    </tr>\n",
       "    <tr>\n",
       "      <th>6</th>\n",
       "      <td>2013</td>\n",
       "      <td>Feb</td>\n",
       "      <td>7.6</td>\n",
       "      <td>240.0</td>\n",
       "      <td>8.70</td>\n",
       "      <td>40.140</td>\n",
       "      <td>4.20</td>\n",
       "    </tr>\n",
       "    <tr>\n",
       "      <th>7</th>\n",
       "      <td>2013</td>\n",
       "      <td>Feb</td>\n",
       "      <td>7.5</td>\n",
       "      <td>288.0</td>\n",
       "      <td>7.40</td>\n",
       "      <td>35.530</td>\n",
       "      <td>5.10</td>\n",
       "    </tr>\n",
       "    <tr>\n",
       "      <th>8</th>\n",
       "      <td>2013</td>\n",
       "      <td>Feb</td>\n",
       "      <td>8.2</td>\n",
       "      <td>250.0</td>\n",
       "      <td>4.50</td>\n",
       "      <td>30.750</td>\n",
       "      <td>0.00</td>\n",
       "    </tr>\n",
       "    <tr>\n",
       "      <th>9</th>\n",
       "      <td>2013</td>\n",
       "      <td>Mar</td>\n",
       "      <td>8.6</td>\n",
       "      <td>257.0</td>\n",
       "      <td>5.70</td>\n",
       "      <td>27.730</td>\n",
       "      <td>0.00</td>\n",
       "    </tr>\n",
       "    <tr>\n",
       "      <th>10</th>\n",
       "      <td>2013</td>\n",
       "      <td>Mar</td>\n",
       "      <td>8.5</td>\n",
       "      <td>265.0</td>\n",
       "      <td>4.70</td>\n",
       "      <td>25.060</td>\n",
       "      <td>25.10</td>\n",
       "    </tr>\n",
       "    <tr>\n",
       "      <th>11</th>\n",
       "      <td>2013</td>\n",
       "      <td>Mar</td>\n",
       "      <td>7.8</td>\n",
       "      <td>221.0</td>\n",
       "      <td>15.00</td>\n",
       "      <td>42.000</td>\n",
       "      <td>11.30</td>\n",
       "    </tr>\n",
       "    <tr>\n",
       "      <th>12</th>\n",
       "      <td>2013</td>\n",
       "      <td>Mar</td>\n",
       "      <td>7.6</td>\n",
       "      <td>281.0</td>\n",
       "      <td>5.00</td>\n",
       "      <td>37.870</td>\n",
       "      <td>13.10</td>\n",
       "    </tr>\n",
       "    <tr>\n",
       "      <th>13</th>\n",
       "      <td>2013</td>\n",
       "      <td>Apr</td>\n",
       "      <td>8.5</td>\n",
       "      <td>244.0</td>\n",
       "      <td>3.20</td>\n",
       "      <td>31.330</td>\n",
       "      <td>0.00</td>\n",
       "    </tr>\n",
       "    <tr>\n",
       "      <th>14</th>\n",
       "      <td>2013</td>\n",
       "      <td>Apr</td>\n",
       "      <td>8.4</td>\n",
       "      <td>256.0</td>\n",
       "      <td>3.80</td>\n",
       "      <td>27.970</td>\n",
       "      <td>32.40</td>\n",
       "    </tr>\n",
       "    <tr>\n",
       "      <th>15</th>\n",
       "      <td>2013</td>\n",
       "      <td>Apr</td>\n",
       "      <td>7.7</td>\n",
       "      <td>268.0</td>\n",
       "      <td>1.30</td>\n",
       "      <td>23.110</td>\n",
       "      <td>10.40</td>\n",
       "    </tr>\n",
       "    <tr>\n",
       "      <th>16</th>\n",
       "      <td>2013</td>\n",
       "      <td>Apr</td>\n",
       "      <td>7.8</td>\n",
       "      <td>269.0</td>\n",
       "      <td>2.10</td>\n",
       "      <td>2.320</td>\n",
       "      <td>2.70</td>\n",
       "    </tr>\n",
       "    <tr>\n",
       "      <th>17</th>\n",
       "      <td>2013</td>\n",
       "      <td>May</td>\n",
       "      <td>7.8</td>\n",
       "      <td>280.0</td>\n",
       "      <td>0.74</td>\n",
       "      <td>23.710</td>\n",
       "      <td>9.00</td>\n",
       "    </tr>\n",
       "    <tr>\n",
       "      <th>18</th>\n",
       "      <td>2013</td>\n",
       "      <td>May</td>\n",
       "      <td>8.0</td>\n",
       "      <td>290.0</td>\n",
       "      <td>2.80</td>\n",
       "      <td>24.740</td>\n",
       "      <td>5.50</td>\n",
       "    </tr>\n",
       "    <tr>\n",
       "      <th>19</th>\n",
       "      <td>2013</td>\n",
       "      <td>May</td>\n",
       "      <td>7.9</td>\n",
       "      <td>292.0</td>\n",
       "      <td>2.60</td>\n",
       "      <td>20.930</td>\n",
       "      <td>9.90</td>\n",
       "    </tr>\n",
       "    <tr>\n",
       "      <th>20</th>\n",
       "      <td>2013</td>\n",
       "      <td>May</td>\n",
       "      <td>8.1</td>\n",
       "      <td>282.0</td>\n",
       "      <td>2.60</td>\n",
       "      <td>22.330</td>\n",
       "      <td>8.90</td>\n",
       "    </tr>\n",
       "    <tr>\n",
       "      <th>21</th>\n",
       "      <td>2013</td>\n",
       "      <td>Jun</td>\n",
       "      <td>7.6</td>\n",
       "      <td>300.0</td>\n",
       "      <td>1.40</td>\n",
       "      <td>27.880</td>\n",
       "      <td>3.50</td>\n",
       "    </tr>\n",
       "    <tr>\n",
       "      <th>22</th>\n",
       "      <td>2013</td>\n",
       "      <td>Jun</td>\n",
       "      <td>7.6</td>\n",
       "      <td>310.0</td>\n",
       "      <td>1.40</td>\n",
       "      <td>25.000</td>\n",
       "      <td>0.00</td>\n",
       "    </tr>\n",
       "    <tr>\n",
       "      <th>23</th>\n",
       "      <td>2013</td>\n",
       "      <td>Jun</td>\n",
       "      <td>7.7</td>\n",
       "      <td>302.0</td>\n",
       "      <td>2.70</td>\n",
       "      <td>23.900</td>\n",
       "      <td>4.60</td>\n",
       "    </tr>\n",
       "    <tr>\n",
       "      <th>24</th>\n",
       "      <td>2013</td>\n",
       "      <td>Jun</td>\n",
       "      <td>7.8</td>\n",
       "      <td>310.0</td>\n",
       "      <td>2.40</td>\n",
       "      <td>23.020</td>\n",
       "      <td>9.40</td>\n",
       "    </tr>\n",
       "    <tr>\n",
       "      <th>25</th>\n",
       "      <td>2013</td>\n",
       "      <td>Jul</td>\n",
       "      <td>7.6</td>\n",
       "      <td>295.0</td>\n",
       "      <td>3.60</td>\n",
       "      <td>22.970</td>\n",
       "      <td>0.00</td>\n",
       "    </tr>\n",
       "    <tr>\n",
       "      <th>26</th>\n",
       "      <td>2013</td>\n",
       "      <td>Jul</td>\n",
       "      <td>7.6</td>\n",
       "      <td>295.0</td>\n",
       "      <td>1.50</td>\n",
       "      <td>27.190</td>\n",
       "      <td>1.53</td>\n",
       "    </tr>\n",
       "    <tr>\n",
       "      <th>27</th>\n",
       "      <td>2013</td>\n",
       "      <td>Jul</td>\n",
       "      <td>8.2</td>\n",
       "      <td>269.0</td>\n",
       "      <td>2.80</td>\n",
       "      <td>27.640</td>\n",
       "      <td>5.63</td>\n",
       "    </tr>\n",
       "    <tr>\n",
       "      <th>28</th>\n",
       "      <td>2013</td>\n",
       "      <td>Aug</td>\n",
       "      <td>8.3</td>\n",
       "      <td>264.0</td>\n",
       "      <td>5.20</td>\n",
       "      <td>24.000</td>\n",
       "      <td>22.93</td>\n",
       "    </tr>\n",
       "    <tr>\n",
       "      <th>29</th>\n",
       "      <td>2013</td>\n",
       "      <td>Aug</td>\n",
       "      <td>8.0</td>\n",
       "      <td>259.0</td>\n",
       "      <td>3.40</td>\n",
       "      <td>25.970</td>\n",
       "      <td>8.69</td>\n",
       "    </tr>\n",
       "    <tr>\n",
       "      <th>30</th>\n",
       "      <td>2013</td>\n",
       "      <td>Aug</td>\n",
       "      <td>7.8</td>\n",
       "      <td>265.0</td>\n",
       "      <td>2.00</td>\n",
       "      <td>27.330</td>\n",
       "      <td>1.74</td>\n",
       "    </tr>\n",
       "    <tr>\n",
       "      <th>31</th>\n",
       "      <td>2013</td>\n",
       "      <td>Aug</td>\n",
       "      <td>7.7</td>\n",
       "      <td>276.0</td>\n",
       "      <td>1.80</td>\n",
       "      <td>28.150</td>\n",
       "      <td>2.92</td>\n",
       "    </tr>\n",
       "    <tr>\n",
       "      <th>32</th>\n",
       "      <td>2013</td>\n",
       "      <td>Sep</td>\n",
       "      <td>8.0</td>\n",
       "      <td>268.0</td>\n",
       "      <td>2.40</td>\n",
       "      <td>25.970</td>\n",
       "      <td>5.56</td>\n",
       "    </tr>\n",
       "    <tr>\n",
       "      <th>33</th>\n",
       "      <td>2013</td>\n",
       "      <td>Sep</td>\n",
       "      <td>7.7</td>\n",
       "      <td>278.0</td>\n",
       "      <td>1.30</td>\n",
       "      <td>28.510</td>\n",
       "      <td>2.15</td>\n",
       "    </tr>\n",
       "    <tr>\n",
       "      <th>34</th>\n",
       "      <td>2013</td>\n",
       "      <td>Sep</td>\n",
       "      <td>7.7</td>\n",
       "      <td>301.0</td>\n",
       "      <td>1.40</td>\n",
       "      <td>33.730</td>\n",
       "      <td>1.95</td>\n",
       "    </tr>\n",
       "    <tr>\n",
       "      <th>35</th>\n",
       "      <td>2013</td>\n",
       "      <td>Sep</td>\n",
       "      <td>7.9</td>\n",
       "      <td>274.0</td>\n",
       "      <td>0.84</td>\n",
       "      <td>25.850</td>\n",
       "      <td>3.20</td>\n",
       "    </tr>\n",
       "    <tr>\n",
       "      <th>36</th>\n",
       "      <td>2013</td>\n",
       "      <td>Sep</td>\n",
       "      <td>8.0</td>\n",
       "      <td>283.0</td>\n",
       "      <td>0.60</td>\n",
       "      <td>26.510</td>\n",
       "      <td>2.22</td>\n",
       "    </tr>\n",
       "    <tr>\n",
       "      <th>37</th>\n",
       "      <td>2013</td>\n",
       "      <td>Oct</td>\n",
       "      <td>0.0</td>\n",
       "      <td>0.0</td>\n",
       "      <td>0.00</td>\n",
       "      <td>37.970</td>\n",
       "      <td>2.71</td>\n",
       "    </tr>\n",
       "    <tr>\n",
       "      <th>38</th>\n",
       "      <td>2013</td>\n",
       "      <td>Oct</td>\n",
       "      <td>7.6</td>\n",
       "      <td>275.0</td>\n",
       "      <td>4.20</td>\n",
       "      <td>51.660</td>\n",
       "      <td>2.78</td>\n",
       "    </tr>\n",
       "    <tr>\n",
       "      <th>39</th>\n",
       "      <td>2013</td>\n",
       "      <td>Oct</td>\n",
       "      <td>7.7</td>\n",
       "      <td>274.0</td>\n",
       "      <td>1.30</td>\n",
       "      <td>51.380</td>\n",
       "      <td>1.60</td>\n",
       "    </tr>\n",
       "    <tr>\n",
       "      <th>40</th>\n",
       "      <td>2013</td>\n",
       "      <td>Oct</td>\n",
       "      <td>7.7</td>\n",
       "      <td>265.0</td>\n",
       "      <td>3.50</td>\n",
       "      <td>76.350</td>\n",
       "      <td>2.64</td>\n",
       "    </tr>\n",
       "    <tr>\n",
       "      <th>41</th>\n",
       "      <td>2013</td>\n",
       "      <td>Oct</td>\n",
       "      <td>7.9</td>\n",
       "      <td>254.0</td>\n",
       "      <td>2.40</td>\n",
       "      <td>86.450</td>\n",
       "      <td>1.95</td>\n",
       "    </tr>\n",
       "    <tr>\n",
       "      <th>42</th>\n",
       "      <td>2013</td>\n",
       "      <td>Nov</td>\n",
       "      <td>7.8</td>\n",
       "      <td>259.0</td>\n",
       "      <td>1.40</td>\n",
       "      <td>64.350</td>\n",
       "      <td>5.28</td>\n",
       "    </tr>\n",
       "    <tr>\n",
       "      <th>43</th>\n",
       "      <td>2013</td>\n",
       "      <td>Nov</td>\n",
       "      <td>7.9</td>\n",
       "      <td>274.0</td>\n",
       "      <td>2.20</td>\n",
       "      <td>54.286</td>\n",
       "      <td>1.81</td>\n",
       "    </tr>\n",
       "    <tr>\n",
       "      <th>44</th>\n",
       "      <td>2013</td>\n",
       "      <td>Nov</td>\n",
       "      <td>7.9</td>\n",
       "      <td>288.0</td>\n",
       "      <td>2.70</td>\n",
       "      <td>47.532</td>\n",
       "      <td>3.06</td>\n",
       "    </tr>\n",
       "    <tr>\n",
       "      <th>45</th>\n",
       "      <td>2013</td>\n",
       "      <td>Nov</td>\n",
       "      <td>8.0</td>\n",
       "      <td>288.0</td>\n",
       "      <td>1.30</td>\n",
       "      <td>47.900</td>\n",
       "      <td>5.84</td>\n",
       "    </tr>\n",
       "    <tr>\n",
       "      <th>46</th>\n",
       "      <td>2013</td>\n",
       "      <td>Dec</td>\n",
       "      <td>7.8</td>\n",
       "      <td>304.0</td>\n",
       "      <td>0.84</td>\n",
       "      <td>41.680</td>\n",
       "      <td>3.13</td>\n",
       "    </tr>\n",
       "    <tr>\n",
       "      <th>47</th>\n",
       "      <td>2013</td>\n",
       "      <td>Dec</td>\n",
       "      <td>7.7</td>\n",
       "      <td>307.0</td>\n",
       "      <td>2.90</td>\n",
       "      <td>33.460</td>\n",
       "      <td>4.31</td>\n",
       "    </tr>\n",
       "    <tr>\n",
       "      <th>48</th>\n",
       "      <td>2013</td>\n",
       "      <td>Dec</td>\n",
       "      <td>8.0</td>\n",
       "      <td>296.0</td>\n",
       "      <td>3.40</td>\n",
       "      <td>37.400</td>\n",
       "      <td>2.22</td>\n",
       "    </tr>\n",
       "    <tr>\n",
       "      <th>49</th>\n",
       "      <td>2013</td>\n",
       "      <td>Dec</td>\n",
       "      <td>7.9</td>\n",
       "      <td>267.0</td>\n",
       "      <td>7.90</td>\n",
       "      <td>40.120</td>\n",
       "      <td>3.54</td>\n",
       "    </tr>\n",
       "  </tbody>\n",
       "</table>\n",
       "</div>"
      ],
      "text/plain": [
       "    YEAR MONTH   PH  CONDUCTIVITY20 C  TURBIDITY  COLOUR  CHLOROPHYLL A\n",
       "1   2013   Jan  7.6             264.0       3.00  42.200           0.00\n",
       "2   2013   Jan  7.8             330.0       1.90  30.400           0.00\n",
       "3   2013   Jan  7.5             259.0       8.60  37.840           0.00\n",
       "4   2013   Feb  7.8             267.0       4.50  34.400           2.00\n",
       "5   2013   Feb  0.0               0.0       0.00   0.000           4.00\n",
       "6   2013   Feb  7.6             240.0       8.70  40.140           4.20\n",
       "7   2013   Feb  7.5             288.0       7.40  35.530           5.10\n",
       "8   2013   Feb  8.2             250.0       4.50  30.750           0.00\n",
       "9   2013   Mar  8.6             257.0       5.70  27.730           0.00\n",
       "10  2013   Mar  8.5             265.0       4.70  25.060          25.10\n",
       "11  2013   Mar  7.8             221.0      15.00  42.000          11.30\n",
       "12  2013   Mar  7.6             281.0       5.00  37.870          13.10\n",
       "13  2013   Apr  8.5             244.0       3.20  31.330           0.00\n",
       "14  2013   Apr  8.4             256.0       3.80  27.970          32.40\n",
       "15  2013   Apr  7.7             268.0       1.30  23.110          10.40\n",
       "16  2013   Apr  7.8             269.0       2.10   2.320           2.70\n",
       "17  2013   May  7.8             280.0       0.74  23.710           9.00\n",
       "18  2013   May  8.0             290.0       2.80  24.740           5.50\n",
       "19  2013   May  7.9             292.0       2.60  20.930           9.90\n",
       "20  2013   May  8.1             282.0       2.60  22.330           8.90\n",
       "21  2013   Jun  7.6             300.0       1.40  27.880           3.50\n",
       "22  2013   Jun  7.6             310.0       1.40  25.000           0.00\n",
       "23  2013   Jun  7.7             302.0       2.70  23.900           4.60\n",
       "24  2013   Jun  7.8             310.0       2.40  23.020           9.40\n",
       "25  2013   Jul  7.6             295.0       3.60  22.970           0.00\n",
       "26  2013   Jul  7.6             295.0       1.50  27.190           1.53\n",
       "27  2013   Jul  8.2             269.0       2.80  27.640           5.63\n",
       "28  2013   Aug  8.3             264.0       5.20  24.000          22.93\n",
       "29  2013   Aug  8.0             259.0       3.40  25.970           8.69\n",
       "30  2013   Aug  7.8             265.0       2.00  27.330           1.74\n",
       "31  2013   Aug  7.7             276.0       1.80  28.150           2.92\n",
       "32  2013   Sep  8.0             268.0       2.40  25.970           5.56\n",
       "33  2013   Sep  7.7             278.0       1.30  28.510           2.15\n",
       "34  2013   Sep  7.7             301.0       1.40  33.730           1.95\n",
       "35  2013   Sep  7.9             274.0       0.84  25.850           3.20\n",
       "36  2013   Sep  8.0             283.0       0.60  26.510           2.22\n",
       "37  2013   Oct  0.0               0.0       0.00  37.970           2.71\n",
       "38  2013   Oct  7.6             275.0       4.20  51.660           2.78\n",
       "39  2013   Oct  7.7             274.0       1.30  51.380           1.60\n",
       "40  2013   Oct  7.7             265.0       3.50  76.350           2.64\n",
       "41  2013   Oct  7.9             254.0       2.40  86.450           1.95\n",
       "42  2013   Nov  7.8             259.0       1.40  64.350           5.28\n",
       "43  2013   Nov  7.9             274.0       2.20  54.286           1.81\n",
       "44  2013   Nov  7.9             288.0       2.70  47.532           3.06\n",
       "45  2013   Nov  8.0             288.0       1.30  47.900           5.84\n",
       "46  2013   Dec  7.8             304.0       0.84  41.680           3.13\n",
       "47  2013   Dec  7.7             307.0       2.90  33.460           4.31\n",
       "48  2013   Dec  8.0             296.0       3.40  37.400           2.22\n",
       "49  2013   Dec  7.9             267.0       7.90  40.120           3.54"
      ]
     },
     "execution_count": 317,
     "metadata": {},
     "output_type": "execute_result"
    }
   ],
   "source": []
  },
  {
   "cell_type": "code",
   "execution_count": null,
   "metadata": {
    "colab": {
     "base_uri": "https://localhost:8080/",
     "height": 640
    },
    "colab_type": "code",
    "id": "oHdzIGE6z61T",
    "outputId": "7a72f628-8518-463a-8d75-b1b64e09c509"
   },
   "outputs": [],
   "source": [
    "plt.figure(figsize=(20, 10))\n",
    "sns.lineplot(data=df, x=\"MONTH\", y=\"PH\", hue=\"YEAR\")\n",
    "plt.xlabel(\"Meses\")\n",
    "plt.ylabel(\"pH\")\n",
    "plt.title(\"Índice de pH por ano\")\n"
   ]
  },
  {
   "cell_type": "code",
   "execution_count": null,
   "metadata": {
    "colab": {
     "base_uri": "https://localhost:8080/",
     "height": 640
    },
    "colab_type": "code",
    "id": "Uh4p-2SQ36NE",
    "outputId": "e3b5714d-2061-4b4f-ce70-f3f120e57a53"
   },
   "outputs": [],
   "source": [
    "plt.figure(figsize=(20, 10))\n",
    "sns.lineplot(data=df, x=\"MONTH\", y=\"CONDUCTIVITY20 C\", hue=\"YEAR\")\n",
    "plt.xlabel(\"Meses\")\n",
    "plt.ylabel(\"Condutividade\")\n",
    "plt.title(\"Índice de condutividade por ano\")\n"
   ]
  },
  {
   "cell_type": "code",
   "execution_count": null,
   "metadata": {
    "colab": {
     "base_uri": "https://localhost:8080/",
     "height": 640
    },
    "colab_type": "code",
    "id": "rOrGxe-q52n6",
    "outputId": "9f7a0e1e-0e16-4040-c044-0785e7770b4a"
   },
   "outputs": [],
   "source": [
    "plt.figure(figsize=(20, 10))\n",
    "sns.lineplot(data=df, x=\"MONTH\", y=\"TURBIDITY\", hue=\"YEAR\")\n",
    "plt.xlabel(\"Meses\")\n",
    "plt.ylabel(\"Turbidez\")\n",
    "plt.title(\"Índice de turbidez por ano\")"
   ]
  },
  {
   "cell_type": "code",
   "execution_count": null,
   "metadata": {
    "colab": {
     "base_uri": "https://localhost:8080/",
     "height": 437
    },
    "colab_type": "code",
    "id": "kchl3O8752pc",
    "outputId": "cf0e5b9e-4198-4828-c15a-fb0de9985fd3"
   },
   "outputs": [],
   "source": [
    "plt.figure(figsize=(20, 10))\n",
    "sns.lineplot(data=df, x=\"MONTH\", y=\"COLOUR\", hue=\"YEAR\")\n",
    "plt.xlabel(\"Meses\")\n",
    "plt.ylabel(\"Cor\")\n",
    "plt.title(\"Índice de cor (ano)\")"
   ]
  },
  {
   "cell_type": "code",
   "execution_count": null,
   "metadata": {
    "colab": {
     "base_uri": "https://localhost:8080/",
     "height": 437
    },
    "colab_type": "code",
    "id": "EDSvklWh36OJ",
    "outputId": "a6bd3ebd-426f-46f3-dd2f-276accf2cab4"
   },
   "outputs": [],
   "source": [
    "plt.figure(figsize=(20, 10))\n",
    "sns.lineplot(data=df, x=\"MONTH\", y=\"CHLOROPHYLL A\", hue=\"YEAR\")\n",
    "plt.xlabel(\"Meses\")\n",
    "plt.ylabel(\"Clorofila\")\n",
    "plt.title(\"Índice de clorofila (ano)\")"
   ]
  },
  {
   "cell_type": "code",
   "execution_count": null,
   "metadata": {},
   "outputs": [],
   "source": []
  }
 ],
 "metadata": {
  "colab": {
   "collapsed_sections": [],
   "name": "Previsão de parâmetros fisico-quimicos da qualidade da água.ipynb",
   "provenance": []
  },
  "kernelspec": {
   "display_name": "Python 3",
   "language": "python",
   "name": "python3"
  },
  "language_info": {
   "codemirror_mode": {
    "name": "ipython",
    "version": 3
   },
   "file_extension": ".py",
   "mimetype": "text/x-python",
   "name": "python",
   "nbconvert_exporter": "python",
   "pygments_lexer": "ipython3",
   "version": "3.8.2"
  }
 },
 "nbformat": 4,
 "nbformat_minor": 1
}
